{
 "cells": [
  {
   "cell_type": "markdown",
   "metadata": {},
   "source": [
    "Word2Vec model to generate Word embeddings for the words"
   ]
  },
  {
   "cell_type": "code",
   "execution_count": 5,
   "metadata": {},
   "outputs": [],
   "source": [
    "# Genism\n",
    "from gensim.models import Word2Vec\n",
    "from smart_open import open\n",
    "import os\n",
    "\n",
    "# Tensor\n",
    "import tensorflow as tf\n",
    "from tensorflow import keras\n",
    "\n",
    "#plotting\n",
    "import matplotlib.pyplot as plt\n",
    "from sklearn.decomposition import PCA\n",
    "from sklearn.manifold import TSNE\n",
    "\n",
    "#csv\n",
    "import csv\n",
    "\n",
    "# NLTK\n",
    "import numpy as np \n",
    "import re\n",
    "import string \n",
    "import nltk\n",
    "from nltk.corpus import stopwords , brown"
   ]
  },
  {
   "cell_type": "code",
   "execution_count": 6,
   "metadata": {},
   "outputs": [],
   "source": [
    "tf.reset_default_graph()"
   ]
  },
  {
   "cell_type": "raw",
   "metadata": {},
   "source": [
    "# File open & Read\n",
    "\n",
    "with open('Para.txt', 'r') as file:\n",
    "    para = file.read().replace('\\n', '')\n",
    "# file.seek(0,0)\n",
    "para"
   ]
  },
  {
   "cell_type": "code",
   "execution_count": 8,
   "metadata": {
    "scrolled": true
   },
   "outputs": [
    {
     "data": {
      "text/plain": [
       "[['25763772|t|dctn4',\n",
       "  'modifier',\n",
       "  'chronic',\n",
       "  'pseudomonas',\n",
       "  'aeruginosa',\n",
       "  'infection',\n",
       "  'cystic',\n",
       "  'fibrosis25763772|a|pseudomonas',\n",
       "  'aeruginosa',\n",
       "  'pa',\n",
       "  'infection',\n",
       "  'cystic',\n",
       "  'fibrosis',\n",
       "  'cf',\n",
       "  'patients',\n",
       "  'associated',\n",
       "  'worse',\n",
       "  'long-term',\n",
       "  'pulmonary',\n",
       "  'disease',\n",
       "  'shorter',\n",
       "  'survival',\n",
       "  'chronic',\n",
       "  'pa',\n",
       "  'infection',\n",
       "  'cpa',\n",
       "  'associated',\n",
       "  'reduced',\n",
       "  'lung',\n",
       "  'function',\n",
       "  'faster',\n",
       "  'rate',\n",
       "  'lung',\n",
       "  'decline',\n",
       "  'increased',\n",
       "  'rates',\n",
       "  'exacerbations',\n",
       "  'shorter',\n",
       "  'survival'],\n",
       " ['by',\n",
       "  'using',\n",
       "  'exome',\n",
       "  'sequencing',\n",
       "  'extreme',\n",
       "  'phenotype',\n",
       "  'design',\n",
       "  'recently',\n",
       "  'shown',\n",
       "  'isoforms',\n",
       "  'dynactin',\n",
       "  '4',\n",
       "  'dctn4',\n",
       "  'may',\n",
       "  'influence',\n",
       "  'pa',\n",
       "  'infection',\n",
       "  'cf',\n",
       "  'leading',\n",
       "  'worse',\n",
       "  'respiratory',\n",
       "  'disease'],\n",
       " ['the',\n",
       "  'purpose',\n",
       "  'study',\n",
       "  'investigate',\n",
       "  'role',\n",
       "  'dctn4',\n",
       "  'missense',\n",
       "  'variants',\n",
       "  'pa',\n",
       "  'infection',\n",
       "  'incidence',\n",
       "  'age',\n",
       "  'first',\n",
       "  'pa',\n",
       "  'infection',\n",
       "  'chronic',\n",
       "  'pa',\n",
       "  'infection',\n",
       "  'incidence',\n",
       "  'cohort',\n",
       "  'adult',\n",
       "  'cf',\n",
       "  'patients',\n",
       "  'single',\n",
       "  'centre'],\n",
       " ['polymerase',\n",
       "  'chain',\n",
       "  'reaction',\n",
       "  'direct',\n",
       "  'sequencing',\n",
       "  'used',\n",
       "  'screen',\n",
       "  'dna',\n",
       "  'samples',\n",
       "  'dctn4',\n",
       "  'variants'],\n",
       " ['a',\n",
       "  'total',\n",
       "  '121',\n",
       "  'adult',\n",
       "  'cf',\n",
       "  'patients',\n",
       "  'cochin',\n",
       "  'hospital',\n",
       "  'cf',\n",
       "  'centre',\n",
       "  'included',\n",
       "  'carrying',\n",
       "  'two',\n",
       "  'cftr',\n",
       "  'defects',\n",
       "  '103',\n",
       "  'developed',\n",
       "  'least',\n",
       "  '1',\n",
       "  'pulmonary',\n",
       "  'infection',\n",
       "  'pa',\n",
       "  '68',\n",
       "  'patients',\n",
       "  'cpa'],\n",
       " ['dctn4',\n",
       "  'variants',\n",
       "  'identified',\n",
       "  '24',\n",
       "  '29/121',\n",
       "  'cf',\n",
       "  'patients',\n",
       "  'pa',\n",
       "  'infection',\n",
       "  '17',\n",
       "  '3/18',\n",
       "  'cf',\n",
       "  'patients',\n",
       "  'pa',\n",
       "  'infection'],\n",
       " ['of',\n",
       "  'patients',\n",
       "  'cpa',\n",
       "  '29',\n",
       "  '20/68',\n",
       "  'dctn4',\n",
       "  'missense',\n",
       "  'variants',\n",
       "  'vs',\n",
       "  '23',\n",
       "  '8/35',\n",
       "  'patients',\n",
       "  'without',\n",
       "  'cpa'],\n",
       " ['interestingly', 'p'],\n",
       " ['tyr263cys',\n",
       "  'tend',\n",
       "  'frequently',\n",
       "  'observed',\n",
       "  'cf',\n",
       "  'patients',\n",
       "  'cpa',\n",
       "  'patients',\n",
       "  'without',\n",
       "  'cpa',\n",
       "  '4/68',\n",
       "  'vs',\n",
       "  '0/35',\n",
       "  'dctn4',\n",
       "  'missense',\n",
       "  'variants',\n",
       "  'tend',\n",
       "  'frequent',\n",
       "  'male',\n",
       "  'cf',\n",
       "  'patients',\n",
       "  'cpa',\n",
       "  'bearing',\n",
       "  'two',\n",
       "  'class',\n",
       "  'ii',\n",
       "  'mutations',\n",
       "  'male',\n",
       "  'cf',\n",
       "  'patients',\n",
       "  'without',\n",
       "  'cpa',\n",
       "  'bearing',\n",
       "  'two',\n",
       "  'class',\n",
       "  'ii',\n",
       "  'mutations',\n",
       "  'p',\n",
       "  '',\n",
       "  '0'],\n",
       " ['06'],\n",
       " ['our',\n",
       "  'observations',\n",
       "  'reinforce',\n",
       "  'dctn4',\n",
       "  'missense',\n",
       "  'variants',\n",
       "  'especially',\n",
       "  'p'],\n",
       " ['tyr263cys', 'may', 'involved', 'pathogenesis', 'cpa', 'male', 'cf'],\n",
       " []]"
      ]
     },
     "execution_count": 8,
     "metadata": {},
     "output_type": "execute_result"
    }
   ],
   "source": [
    "# scentences to tokens\n",
    "# used for para to tokens\n",
    "def preprocessing(corpus): \n",
    "    stop_words = set(stopwords.words('english'))     \n",
    "    training_data = [] \n",
    "    sentences = corpus.split(\".\") \n",
    "    for i in range(len(sentences)): \n",
    "        sentences[i] = sentences[i].strip() \n",
    "        sentence = sentences[i].split() \n",
    "        x = [word.strip(string.punctuation) for word in sentence \n",
    "                                     if word not in stop_words] \n",
    "        x = [word.lower() for word in x] \n",
    "        training_data.append(x) \n",
    "    return training_data \n",
    "\n",
    "# function call\n",
    "para = preprocessing(para)\n",
    "para"
   ]
  },
  {
   "cell_type": "code",
   "execution_count": 9,
   "metadata": {},
   "outputs": [],
   "source": [
    "DIM = 300\n",
    "\n",
    "# Word to Vec model || genism\n",
    "def model(itera):\n",
    "    model = Word2Vec(para, min_count=1, size=DIM, sg = 1 , iter=itera)\n",
    "    return model\n",
    "w2v = model(100)"
   ]
  },
  {
   "cell_type": "code",
   "execution_count": 10,
   "metadata": {
    "scrolled": true
   },
   "outputs": [
    {
     "name": "stdout",
     "output_type": "stream",
     "text": [
      "['25763772|t|dctn4', 'modifier', 'chronic', 'pseudomonas', 'aeruginosa', 'infection', 'cystic', 'fibrosis25763772|a|pseudomonas', 'pa', 'fibrosis', 'cf', 'patients', 'associated', 'worse', 'long-term', 'pulmonary', 'disease', 'shorter', 'survival', 'cpa', 'reduced', 'lung', 'function', 'faster', 'rate', 'decline', 'increased', 'rates', 'exacerbations', 'by', 'using', 'exome', 'sequencing', 'extreme', 'phenotype', 'design', 'recently', 'shown', 'isoforms', 'dynactin', '4', 'dctn4', 'may', 'influence', 'leading', 'respiratory', 'the', 'purpose', 'study', 'investigate', 'role', 'missense', 'variants', 'incidence', 'age', 'first', 'cohort', 'adult', 'single', 'centre', 'polymerase', 'chain', 'reaction', 'direct', 'used', 'screen', 'dna', 'samples', 'a', 'total', '121', 'cochin', 'hospital', 'included', 'carrying', 'two', 'cftr', 'defects', '103', 'developed', 'least', '1', '68', 'identified', '24', '29/121', '17', '3/18', 'of', '29', '20/68', 'vs', '23', '8/35', 'without', 'interestingly', 'p', 'tyr263cys', 'tend', 'frequently', 'observed', '4/68', '0/35', 'frequent', 'male', 'bearing', 'class', 'ii', 'mutations', '', '0', '06', 'our', 'observations', 'reinforce', 'especially', 'involved', 'pathogenesis']\n",
      "118\n"
     ]
    }
   ],
   "source": [
    "# existing vocabalary\n",
    "\n",
    "vocab = list(w2v.wv.vocab)\n",
    "print(vocab)\n",
    "print(len(vocab))"
   ]
  },
  {
   "cell_type": "code",
   "execution_count": 11,
   "metadata": {
    "slideshow": {
     "slide_type": "-"
    }
   },
   "outputs": [],
   "source": [
    "# Saving model\n",
    "w2v.save(\"w2v.model\")"
   ]
  },
  {
   "cell_type": "code",
   "execution_count": 12,
   "metadata": {},
   "outputs": [
    {
     "name": "stderr",
     "output_type": "stream",
     "text": [
      "/home/grrao/anaconda3/lib/python3.7/site-packages/ipykernel_launcher.py:3: DeprecationWarning: Call to deprecated `most_similar` (Method will be removed in 4.0.0, use self.wv.most_similar() instead).\n",
      "  This is separate from the ipykernel package so we can avoid doing imports until\n"
     ]
    },
    {
     "data": {
      "text/plain": [
       "[('shown', 0.9998401999473572),\n",
       " ('phenotype', 0.9998359680175781),\n",
       " ('isoforms', 0.9998251795768738),\n",
       " ('recently', 0.9998180270195007),\n",
       " ('4', 0.9998145699501038),\n",
       " ('extreme', 0.9998054504394531),\n",
       " ('design', 0.9998000860214233),\n",
       " ('influence', 0.9997928142547607),\n",
       " ('respiratory', 0.9997867941856384),\n",
       " ('sequencing', 0.9997827410697937)]"
      ]
     },
     "execution_count": 12,
     "metadata": {},
     "output_type": "execute_result"
    }
   ],
   "source": [
    "# testing\n",
    "# similar by word\n",
    "w2v.most_similar(\"dynactin\")[:10]"
   ]
  },
  {
   "cell_type": "markdown",
   "metadata": {},
   "source": [
    "Generating training file for tags"
   ]
  },
  {
   "cell_type": "code",
   "execution_count": 13,
   "metadata": {
    "scrolled": true
   },
   "outputs": [
    {
     "data": {
      "text/plain": [
       "['63772\\t0\\t5\\tDCTN4\\tT116,T123\\tC4308010',\n",
       " '25763772\\t23\\t63\\tchronic Pseudomonas aeruginosa infection\\tT047\\tC0854135',\n",
       " '25763772\\t67\\t82\\tcystic fibrosis\\tT047\\tC0010674',\n",
       " '25763772\\t83\\t120\\tPseudomonas aeruginosa (Pa) infection\\tT047\\tC0854135',\n",
       " '25763772\\t124\\t139\\tcystic fibrosis\\tT047\\tC0010674',\n",
       " '25763772\\t141\\t143\\tCF\\tT047\\tC0010674',\n",
       " '25763772\\t145\\t153\\tpatients\\tT101\\tC0030705',\n",
       " '25763772\\t179\\t188\\tlong-term\\tT079\\tC0443252',\n",
       " '25763772\\t189\\t206\\tpulmonary disease\\tT047\\tC0024115',\n",
       " '25763772\\t211\\t227\\tshorter survival\\tT169\\tC0220921',\n",
       " '25763772\\t233\\t253\\tchronic Pa infection\\tT047\\tC0854135',\n",
       " '25763772\\t255\\t258\\tCPA\\tT047\\tC0854135',\n",
       " '25763772\\t279\\t300\\treduced lung function\\tT033\\tC0847557',\n",
       " '25763772\\t302\\t329\\tfaster rate of lung decline\\tT033\\tC3160731',\n",
       " '25763772\\t341\\t346\\trates\\tT081\\tC1521828',\n",
       " '25763772\\t350\\t363\\texacerbations\\tT033\\tC4086268',\n",
       " '25763772\\t368\\t384\\tshorter survival\\tT169\\tC0220921',\n",
       " '25763772\\t395\\t411\\texome sequencing\\tT063\\tC3640077',\n",
       " '25763772\\t416\\t440\\textreme phenotype design\\tT052\\tC1707689',\n",
       " '25763772\\t469\\t477\\tisoforms\\tT116\\tC0597298',\n",
       " '25763772\\t481\\t491\\tdynactin 4\\tT116,T123\\tC4308010',\n",
       " '25763772\\t493\\t498\\tDCTN4\\tT116,T123\\tC4308010',\n",
       " '25763772\\t514\\t526\\tPa infection\\tT047\\tC0854135',\n",
       " '25763772\\t530\\t532\\tCF\\tT047\\tC0010674',\n",
       " '25763772\\t551\\t570\\trespiratory disease\\tT047\\tC0035204',\n",
       " '25763772\\t592\\t597\\tstudy\\tT062\\tC2603343',\n",
       " '25763772\\t605\\t616\\tinvestigate\\tT169\\tC1292732',\n",
       " '25763772\\t629\\t634\\tDCTN4\\tT116,T123\\tC4308010',\n",
       " '25763772\\t635\\t643\\tmissense\\tT033\\tC3845273',\n",
       " '25763772\\t644\\t652\\tvariants\\tT116\\tC0597298',\n",
       " '25763772\\t656\\t668\\tPa infection\\tT047\\tC0854135',\n",
       " '25763772\\t669\\t678\\tincidence\\tT081\\tC0021149',\n",
       " '25763772\\t680\\t683\\tage\\tT032\\tC0001779',\n",
       " '25763772\\t693\\t705\\tPa infection\\tT047\\tC0854135',\n",
       " '25763772\\t710\\t730\\tchronic Pa infection\\tT047\\tC0854135',\n",
       " '25763772\\t731\\t740\\tincidence\\tT081\\tC0021149',\n",
       " '25763772\\t746\\t752\\tcohort\\tT098\\tC0599755',\n",
       " '25763772\\t756\\t761\\tadult\\tT100\\tC0001675',\n",
       " '25763772\\t762\\t764\\tCF\\tT047\\tC0010674',\n",
       " '25763772\\t765\\t773\\tpatients\\tT101\\tC0030705',\n",
       " '25763772\\t788\\t794\\tcentre\\tT073,T093\\tC0475309',\n",
       " '25763772\\t796\\t821\\tPolymerase chain reaction\\tT063\\tC0032520',\n",
       " '25763772\\t826\\t843\\tdirect sequencing\\tT063\\tC3899368',\n",
       " '25763772\\t864\\t875\\tDNA samples\\tT026\\tC0444245',\n",
       " '25763772\\t880\\t885\\tDCTN4\\tT116,T123\\tC4308010',\n",
       " '25763772\\t886\\t894\\tvariants\\tT116\\tC0597298',\n",
       " '25763772\\t911\\t916\\tadult\\tT100\\tC0001675',\n",
       " '25763772\\t917\\t919\\tCF\\tT047\\tC0010674',\n",
       " '25763772\\t920\\t928\\tpatients\\tT101\\tC0030705',\n",
       " '25763772\\t938\\t963\\tCochin Hospital CF centre\\tT073,T093\\tC0019994',\n",
       " '25763772\\t1009\\t1013\\tCFTR\\tT028\\tC1413365',\n",
       " '25763772\\t1014\\t1021\\tdefects\\tT169\\tC0243067',\n",
       " '25763772\\t1048\\t1067\\tpulmonary infection\\tT047\\tC0876973',\n",
       " '25763772\\t1073\\t1075\\tPa\\tT007\\tC0033809',\n",
       " '25763772\\t1084\\t1092\\tpatients\\tT101\\tC0030705',\n",
       " '25763772\\t1105\\t1108\\tCPA\\tT047\\tC0854135',\n",
       " '25763772\\t1110\\t1115\\tDCTN4\\tT116,T123\\tC4308010',\n",
       " '25763772\\t1116\\t1124\\tvariants\\tT116\\tC0597298',\n",
       " '25763772\\t1157\\t1159\\tCF\\tT047\\tC0010674',\n",
       " '25763772\\t1160\\t1168\\tpatients\\tT101\\tC0030705',\n",
       " '25763772\\t1174\\t1186\\tPa infection\\tT047\\tC0854135',\n",
       " '25763772\\t1210\\t1212\\tCF\\tT047\\tC0010674',\n",
       " '25763772\\t1213\\t1221\\tpatients\\tT101\\tC0030705',\n",
       " '25763772\\t1230\\t1242\\tPa infection\\tT047\\tC0854135',\n",
       " '25763772\\t1251\\t1259\\tpatients\\tT101\\tC0030705',\n",
       " '25763772\\t1265\\t1268\\tCPA\\tT047\\tC0854135',\n",
       " '25763772\\t1286\\t1291\\tDCTN4\\tT116,T123\\tC4308010',\n",
       " '25763772\\t1292\\t1300\\tmissense\\tT033\\tC3845273',\n",
       " '25763772\\t1301\\t1309\\tvariants\\tT116\\tC0597298',\n",
       " '25763772\\t1327\\t1335\\tpatients\\tT101\\tC0030705',\n",
       " '25763772\\t1344\\t1347\\tCPA\\tT047\\tC0854135',\n",
       " '25763772\\t1364\\t1375\\tp.Tyr263Cys\\tT116\\tC0597298',\n",
       " '25763772\\t1415\\t1417\\tCF\\tT047\\tC0010674',\n",
       " '25763772\\t1418\\t1426\\tpatients\\tT101\\tC0030705',\n",
       " '25763772\\t1432\\t1435\\tCPA\\tT047\\tC0854135',\n",
       " '25763772\\t1444\\t1452\\tpatients\\tT101\\tC0030705',\n",
       " '25763772\\t1461\\t1464\\tCPA\\tT047\\tC0854135',\n",
       " '25763772\\t1485\\t1490\\tDCTN4\\tT116,T123\\tC4308010',\n",
       " '25763772\\t1491\\t1499\\tmissense\\tT033\\tC3845273',\n",
       " '25763772\\t1500\\t1508\\tvariants\\tT116\\tC0597298',\n",
       " '25763772\\t1537\\t1541\\tmale\\tT032\\tC0086582',\n",
       " '25763772\\t1542\\t1544\\tCF\\tT047\\tC0010674',\n",
       " '25763772\\t1545\\t1553\\tpatients\\tT101\\tC0030705',\n",
       " '25763772\\t1559\\t1562\\tCPA\\tT047\\tC0854135',\n",
       " '25763772\\t1575\\t1593\\tclass II mutations\\tT045\\tC0026882',\n",
       " '25763772\\t1602\\t1606\\tmale\\tT032\\tC0086582',\n",
       " '25763772\\t1607\\t1609\\tCF\\tT047\\tC0010674',\n",
       " '25763772\\t1610\\t1618\\tpatients\\tT101\\tC0030705',\n",
       " '25763772\\t1627\\t1630\\tCPA\\tT047\\tC0854135',\n",
       " '25763772\\t1643\\t1661\\tclass II mutations\\tT045\\tC0026882',\n",
       " '25763772\\t1706\\t1711\\tDCTN4\\tT116,T123\\tC4308010',\n",
       " '25763772\\t1712\\t1720\\tmissense\\tT033\\tC3845273',\n",
       " '25763772\\t1721\\t1729\\tvariants\\tT116\\tC0597298',\n",
       " '25763772\\t1742\\t1753\\tp.Tyr263Cys\\tT116\\tC0597298',\n",
       " '25763772\\t1778\\t1790\\tpathogenesis\\tT046\\tC0699748',\n",
       " '25763772\\t1794\\t1797\\tCPA\\tT047\\tC0854135',\n",
       " '25763772\\t1801\\t1805\\tmale\\tT032\\tC0086582',\n",
       " '25763772\\t1806\\t1808\\tCF\\tT047\\tC0010674']"
      ]
     },
     "execution_count": 13,
     "metadata": {},
     "output_type": "execute_result"
    }
   ],
   "source": [
    "#opening file (tag file)\n",
    "with open('data.txt', 'r') as file:\n",
    "    tag = file.read()\n",
    "# file.seek(0,0)\n",
    "str = tag.split(\"\\n\")\n",
    "str"
   ]
  },
  {
   "cell_type": "code",
   "execution_count": 14,
   "metadata": {
    "scrolled": true
   },
   "outputs": [
    {
     "data": {
      "text/plain": [
       "{'dctn4': 't116,t123',\n",
       " 'chronic': 't047',\n",
       " 'pseudomonas': 't047',\n",
       " 'aeruginosa': 't047',\n",
       " 'infection': 't047',\n",
       " 'cystic': 't047',\n",
       " 'fibrosis': 't047',\n",
       " '(pa)': 't047',\n",
       " 'cf': 't047',\n",
       " 'patients': 't101',\n",
       " 'long-term': 't079',\n",
       " 'pulmonary': 't047',\n",
       " 'disease': 't047',\n",
       " 'shorter': 't169',\n",
       " 'survival': 't169',\n",
       " 'pa': 't047',\n",
       " 'cpa': 't047',\n",
       " 'reduced': 't033',\n",
       " 'lung': 't033',\n",
       " 'function': 't033',\n",
       " 'faster': 't033',\n",
       " 'rate': 't033',\n",
       " 'of': 't033',\n",
       " 'decline': 't033',\n",
       " 'rates': 't081',\n",
       " 'exacerbations': 't033',\n",
       " 'exome': 't063',\n",
       " 'sequencing': 't063',\n",
       " 'extreme': 't052',\n",
       " 'phenotype': 't052',\n",
       " 'design': 't052',\n",
       " 'isoforms': 't116',\n",
       " 'dynactin': 't116,t123',\n",
       " '4': 't116,t123',\n",
       " 'respiratory': 't047',\n",
       " 'study': 't062',\n",
       " 'investigate': 't169',\n",
       " 'missense': 't033',\n",
       " 'variants': 't116',\n",
       " 'incidence': 't081',\n",
       " 'age': 't032',\n",
       " 'cohort': 't098',\n",
       " 'adult': 't100',\n",
       " 'centre': 't073,t093',\n",
       " 'polymerase': 't063',\n",
       " 'chain': 't063',\n",
       " 'reaction': 't063',\n",
       " 'direct': 't063',\n",
       " 'dna': 't026',\n",
       " 'samples': 't026',\n",
       " 'cochin': 't073,t093',\n",
       " 'hospital': 't073,t093',\n",
       " 'cftr': 't028',\n",
       " 'defects': 't169',\n",
       " 'p.tyr263cys': 't116',\n",
       " 'male': 't032',\n",
       " 'class': 't045',\n",
       " 'ii': 't045',\n",
       " 'mutations': 't045',\n",
       " 'pathogenesis': 't046'}"
      ]
     },
     "execution_count": 14,
     "metadata": {},
     "output_type": "execute_result"
    }
   ],
   "source": [
    "#processing data -2\n",
    "def preprocessing1(corpus):\n",
    "    training_data = []\n",
    "    for i in str:\n",
    "        i = i.split()\n",
    "        i.pop(0)\n",
    "        i.pop(0)\n",
    "        i.pop(0)\n",
    "        i.pop(-1)\n",
    "        i = [word.lower() for word in i]\n",
    "        for el in range(len(i)-1):\n",
    "            l2 = [i[el],i[len(i)-1]]\n",
    "            training_data.append(tuple(l2)) \n",
    "    return training_data\n",
    "tag = preprocessing1(str)\n",
    "\n",
    "#dictionary format of dicts\n",
    "tag_dict = {il[0]:il[1] for il in tag}\n",
    "tag_dict"
   ]
  },
  {
   "cell_type": "code",
   "execution_count": 15,
   "metadata": {},
   "outputs": [
    {
     "name": "stderr",
     "output_type": "stream",
     "text": [
      "/home/grrao/anaconda3/lib/python3.7/site-packages/ipykernel_launcher.py:14: DeprecationWarning: Call to deprecated `__getitem__` (Method will be removed in 4.0.0, use self.wv.__getitem__() instead).\n",
      "  \n"
     ]
    },
    {
     "data": {
      "image/png": "[encoded data removed]",
      "text/plain": [
       "<Figure size 1440x1440 with 1 Axes>"
      ]
     },
     "metadata": {
      "needs_background": "light"
     },
     "output_type": "display_data"
    }
   ],
   "source": [
    "targets = ['t047','t033','t063','other']\n",
    "colors = ['#00A658','#FF0000','#FF00FF','#2300A8']\n",
    "colours = ['g','r','b']\n",
    "\n",
    "# To get the color to be displayed\n",
    "def get_color(word):\n",
    "    value = tag_dict.get(word, \"o\")\n",
    "    for i in range(len(targets)):\n",
    "        if value == targets[i]:\n",
    "            break;\n",
    "    return i\n",
    "\n",
    "# PCA plotting for model\n",
    "X = w2v[w2v.wv.vocab]\n",
    "pca = PCA()\n",
    "result = pca.fit_transform(X)\n",
    "\n",
    "# create a scatter plot of the projection\n",
    "f,ax = plt.subplots(figsize = (20,20))\n",
    "\n",
    "words = list(w2v.wv.vocab)\n",
    "for i, word in enumerate(words):\n",
    "    j = get_color(word)\n",
    "    ax.scatter(result[i, 0], result[i, 1],color=colors[j])\n",
    "    if j<(len(targets)-1):\n",
    "        ax.annotate(word, xy=(result[i, 0], result[i, 1]), fontsize = 20)\n",
    "\n",
    "leg = ax.legend(targets)\n",
    "\n",
    "for color,text in zip(colors,leg.get_texts()):\n",
    "    text.set_color(color)\n",
    "plt.show()"
   ]
  },
  {
   "cell_type": "markdown",
   "metadata": {},
   "source": [
    "^^^^Make this change ^^^^\n",
    "['dynactin 4', 't116,t123']   =====>>>>> [['dynactin 4', 't116'],['dynactin 4', 't123']]"
   ]
  },
  {
   "cell_type": "markdown",
   "metadata": {
    "slideshow": {
     "slide_type": "-"
    }
   },
   "source": [
    "POS (Part of Speech model)"
   ]
  },
  {
   "cell_type": "code",
   "execution_count": 16,
   "metadata": {},
   "outputs": [
    {
     "name": "stderr",
     "output_type": "stream",
     "text": [
      "/home/grrao/anaconda3/lib/python3.7/site-packages/ipykernel_launcher.py:10: DeprecationWarning: Call to deprecated `__getitem__` (Method will be removed in 4.0.0, use self.wv.__getitem__() instead).\n",
      "  # Remove the CWD from sys.path while we load stuff.\n"
     ]
    },
    {
     "data": {
      "image/png": "[encoded data removed]",
      "text/plain": [
       "<Figure size 1440x1440 with 1 Axes>"
      ]
     },
     "metadata": {
      "needs_background": "light"
     },
     "output_type": "display_data"
    }
   ],
   "source": [
    "# To get the color to be displayed\n",
    "def get_color(word):\n",
    "    value = tag_dict.get(word, \"o\")\n",
    "    for i in range(len(targets)):\n",
    "        if value == targets[i]:\n",
    "            break;\n",
    "    return i\n",
    "\n",
    "# PCA plotting for model\n",
    "X = w2v[w2v.wv.vocab]\n",
    "tsne = TSNE(perplexity=70.0,n_iter=5000)\n",
    "result = tsne.fit_transform(X)\n",
    "\n",
    "# create a scatter plot of the projection\n",
    "f,ax = plt.subplots(figsize = (20,20))\n",
    "\n",
    "words = list(w2v.wv.vocab)\n",
    "for i, word in enumerate(words):\n",
    "    j = get_color(word)\n",
    "    ax.scatter(result[i, 0], result[i, 1],color=colors[j])\n",
    "    if j<(len(targets)-1):\n",
    "        ax.annotate(word, xy=(result[i, 0], result[i, 1]), fontsize = 20)\n",
    "\n",
    "leg = ax.legend(targets)\n",
    "\n",
    "for color,text in zip(colors,leg.get_texts()):\n",
    "    text.set_color(color)\n",
    "plt.show()"
   ]
  },
  {
   "cell_type": "code",
   "execution_count": 46,
   "metadata": {
    "scrolled": true
   },
   "outputs": [
    {
     "name": "stdout",
     "output_type": "stream",
     "text": [
      "(118, 300)\n"
     ]
    },
    {
     "name": "stderr",
     "output_type": "stream",
     "text": [
      "/home/grrao/anaconda3/lib/python3.7/site-packages/ipykernel_launcher.py:1: DeprecationWarning: Call to deprecated `__getitem__` (Method will be removed in 4.0.0, use self.wv.__getitem__() instead).\n",
      "  \"\"\"Entry point for launching an IPython kernel.\n"
     ]
    }
   ],
   "source": [
    "embeddings = w2v[w2v.wv.vocab]\n",
    "print(embeddings.shape)"
   ]
  },
  {
   "cell_type": "markdown",
   "metadata": {},
   "source": [
    "Bi-LSTM CRF model"
   ]
  },
  {
   "cell_type": "code",
   "execution_count": 18,
   "metadata": {},
   "outputs": [],
   "source": [
    "def get_tag_vocab(tagged_words):\n",
    "    tag2id={}\n",
    "    for item in tagged_words:\n",
    "        tag = item[1]\n",
    "        tag2id.setdefault(tag, len(tag2id))\n",
    "    return tag2id\n",
    "word2id = {k: z.index for k, z in w2v.wv.vocab.items()}\n",
    "tag2id = get_tag_vocab(tag)\n"
   ]
  },
  {
   "cell_type": "code",
   "execution_count": 19,
   "metadata": {
    "scrolled": true
   },
   "outputs": [
    {
     "data": {
      "text/plain": [
       "{'25763772|t|dctn4': 34,\n",
       " 'modifier': 35,\n",
       " 'chronic': 8,\n",
       " 'pseudomonas': 36,\n",
       " 'aeruginosa': 13,\n",
       " 'infection': 2,\n",
       " 'cystic': 14,\n",
       " 'fibrosis25763772|a|pseudomonas': 37,\n",
       " 'pa': 3,\n",
       " 'fibrosis': 38,\n",
       " 'cf': 1,\n",
       " 'patients': 0,\n",
       " 'associated': 15,\n",
       " 'worse': 16,\n",
       " 'long-term': 39,\n",
       " 'pulmonary': 17,\n",
       " 'disease': 18,\n",
       " 'shorter': 19,\n",
       " 'survival': 20,\n",
       " 'cpa': 4,\n",
       " 'reduced': 40,\n",
       " 'lung': 21,\n",
       " 'function': 41,\n",
       " 'faster': 42,\n",
       " 'rate': 43,\n",
       " 'decline': 44,\n",
       " 'increased': 45,\n",
       " 'rates': 46,\n",
       " 'exacerbations': 47,\n",
       " 'by': 48,\n",
       " 'using': 49,\n",
       " 'exome': 50,\n",
       " 'sequencing': 22,\n",
       " 'extreme': 51,\n",
       " 'phenotype': 52,\n",
       " 'design': 53,\n",
       " 'recently': 54,\n",
       " 'shown': 55,\n",
       " 'isoforms': 56,\n",
       " 'dynactin': 57,\n",
       " '4': 58,\n",
       " 'dctn4': 5,\n",
       " 'may': 23,\n",
       " 'influence': 59,\n",
       " 'leading': 60,\n",
       " 'respiratory': 61,\n",
       " 'the': 62,\n",
       " 'purpose': 63,\n",
       " 'study': 64,\n",
       " 'investigate': 65,\n",
       " 'role': 66,\n",
       " 'missense': 7,\n",
       " 'variants': 6,\n",
       " 'incidence': 24,\n",
       " 'age': 67,\n",
       " 'first': 68,\n",
       " 'cohort': 69,\n",
       " 'adult': 25,\n",
       " 'single': 70,\n",
       " 'centre': 26,\n",
       " 'polymerase': 71,\n",
       " 'chain': 72,\n",
       " 'reaction': 73,\n",
       " 'direct': 74,\n",
       " 'used': 75,\n",
       " 'screen': 76,\n",
       " 'dna': 77,\n",
       " 'samples': 78,\n",
       " 'a': 79,\n",
       " 'total': 80,\n",
       " '121': 81,\n",
       " 'cochin': 82,\n",
       " 'hospital': 83,\n",
       " 'included': 84,\n",
       " 'carrying': 85,\n",
       " 'two': 9,\n",
       " 'cftr': 86,\n",
       " 'defects': 87,\n",
       " '103': 88,\n",
       " 'developed': 89,\n",
       " 'least': 90,\n",
       " '1': 91,\n",
       " '68': 92,\n",
       " 'identified': 93,\n",
       " '24': 94,\n",
       " '29/121': 95,\n",
       " '17': 96,\n",
       " '3/18': 97,\n",
       " 'of': 98,\n",
       " '29': 99,\n",
       " '20/68': 100,\n",
       " 'vs': 27,\n",
       " '23': 101,\n",
       " '8/35': 102,\n",
       " 'without': 10,\n",
       " 'interestingly': 103,\n",
       " 'p': 11,\n",
       " 'tyr263cys': 28,\n",
       " 'tend': 29,\n",
       " 'frequently': 104,\n",
       " 'observed': 105,\n",
       " '4/68': 106,\n",
       " '0/35': 107,\n",
       " 'frequent': 108,\n",
       " 'male': 12,\n",
       " 'bearing': 30,\n",
       " 'class': 31,\n",
       " 'ii': 32,\n",
       " 'mutations': 33,\n",
       " '': 109,\n",
       " '0': 110,\n",
       " '06': 111,\n",
       " 'our': 112,\n",
       " 'observations': 113,\n",
       " 'reinforce': 114,\n",
       " 'especially': 115,\n",
       " 'involved': 116,\n",
       " 'pathogenesis': 117}"
      ]
     },
     "execution_count": 19,
     "metadata": {},
     "output_type": "execute_result"
    }
   ],
   "source": [
    "word2id"
   ]
  },
  {
   "cell_type": "code",
   "execution_count": 20,
   "metadata": {
    "scrolled": true
   },
   "outputs": [
    {
     "data": {
      "text/plain": [
       "{'t116,t123': 0,\n",
       " 't047': 1,\n",
       " 't101': 2,\n",
       " 't079': 3,\n",
       " 't169': 4,\n",
       " 't033': 5,\n",
       " 't081': 6,\n",
       " 't063': 7,\n",
       " 't052': 8,\n",
       " 't116': 9,\n",
       " 't062': 10,\n",
       " 't032': 11,\n",
       " 't098': 12,\n",
       " 't100': 13,\n",
       " 't073,t093': 14,\n",
       " 't026': 15,\n",
       " 't028': 16,\n",
       " 't007': 17,\n",
       " 't045': 18,\n",
       " 't046': 19}"
      ]
     },
     "execution_count": 20,
     "metadata": {},
     "output_type": "execute_result"
    }
   ],
   "source": [
    "tag2id"
   ]
  },
  {
   "cell_type": "code",
   "execution_count": 21,
   "metadata": {
    "scrolled": true
   },
   "outputs": [
    {
     "name": "stdout",
     "output_type": "stream",
     "text": [
      "25763772|t|dctn4 Vocab(count:1, index:34, sample_int:2861157653)\n",
      "modifier Vocab(count:1, index:35, sample_int:2861157653)\n",
      "chronic Vocab(count:3, index:8, sample_int:1432848787)\n",
      "pseudomonas Vocab(count:1, index:36, sample_int:2861157653)\n",
      "aeruginosa Vocab(count:2, index:13, sample_int:1837234957)\n",
      "infection Vocab(count:10, index:2, sample_int:710681036)\n",
      "cystic Vocab(count:2, index:14, sample_int:1837234957)\n",
      "fibrosis25763772|a|pseudomonas Vocab(count:1, index:37, sample_int:2861157653)\n",
      "pa Vocab(count:9, index:3, sample_int:754241848)\n",
      "fibrosis Vocab(count:1, index:38, sample_int:2861157653)\n",
      "cf Vocab(count:11, index:1, sample_int:673624765)\n",
      "patients Vocab(count:12, index:0, sample_int:641620380)\n",
      "associated Vocab(count:2, index:15, sample_int:1837234957)\n",
      "worse Vocab(count:2, index:16, sample_int:1837234957)\n",
      "long-term Vocab(count:1, index:39, sample_int:2861157653)\n",
      "pulmonary Vocab(count:2, index:17, sample_int:1837234957)\n",
      "disease Vocab(count:2, index:18, sample_int:1837234957)\n",
      "shorter Vocab(count:2, index:19, sample_int:1837234957)\n",
      "survival Vocab(count:2, index:20, sample_int:1837234957)\n",
      "cpa Vocab(count:9, index:4, sample_int:754241848)\n",
      "reduced Vocab(count:1, index:40, sample_int:2861157653)\n",
      "lung Vocab(count:2, index:21, sample_int:1837234957)\n",
      "function Vocab(count:1, index:41, sample_int:2861157653)\n",
      "faster Vocab(count:1, index:42, sample_int:2861157653)\n",
      "rate Vocab(count:1, index:43, sample_int:2861157653)\n",
      "decline Vocab(count:1, index:44, sample_int:2861157653)\n",
      "increased Vocab(count:1, index:45, sample_int:2861157653)\n",
      "rates Vocab(count:1, index:46, sample_int:2861157653)\n",
      "exacerbations Vocab(count:1, index:47, sample_int:2861157653)\n",
      "by Vocab(count:1, index:48, sample_int:2861157653)\n",
      "using Vocab(count:1, index:49, sample_int:2861157653)\n",
      "exome Vocab(count:1, index:50, sample_int:2861157653)\n",
      "sequencing Vocab(count:2, index:22, sample_int:1837234957)\n",
      "extreme Vocab(count:1, index:51, sample_int:2861157653)\n",
      "phenotype Vocab(count:1, index:52, sample_int:2861157653)\n",
      "design Vocab(count:1, index:53, sample_int:2861157653)\n",
      "recently Vocab(count:1, index:54, sample_int:2861157653)\n",
      "shown Vocab(count:1, index:55, sample_int:2861157653)\n",
      "isoforms Vocab(count:1, index:56, sample_int:2861157653)\n",
      "dynactin Vocab(count:1, index:57, sample_int:2861157653)\n",
      "4 Vocab(count:1, index:58, sample_int:2861157653)\n",
      "dctn4 Vocab(count:7, index:5, sample_int:870372281)\n",
      "may Vocab(count:2, index:23, sample_int:1837234957)\n",
      "influence Vocab(count:1, index:59, sample_int:2861157653)\n",
      "leading Vocab(count:1, index:60, sample_int:2861157653)\n",
      "respiratory Vocab(count:1, index:61, sample_int:2861157653)\n",
      "the Vocab(count:1, index:62, sample_int:2861157653)\n",
      "purpose Vocab(count:1, index:63, sample_int:2861157653)\n",
      "study Vocab(count:1, index:64, sample_int:2861157653)\n",
      "investigate Vocab(count:1, index:65, sample_int:2861157653)\n",
      "role Vocab(count:1, index:66, sample_int:2861157653)\n",
      "missense Vocab(count:4, index:7, sample_int:1206166785)\n",
      "variants Vocab(count:6, index:6, sample_int:951207419)\n",
      "incidence Vocab(count:2, index:24, sample_int:1837234957)\n",
      "age Vocab(count:1, index:67, sample_int:2861157653)\n",
      "first Vocab(count:1, index:68, sample_int:2861157653)\n",
      "cohort Vocab(count:1, index:69, sample_int:2861157653)\n",
      "adult Vocab(count:2, index:25, sample_int:1837234957)\n",
      "single Vocab(count:1, index:70, sample_int:2861157653)\n",
      "centre Vocab(count:2, index:26, sample_int:1837234957)\n",
      "polymerase Vocab(count:1, index:71, sample_int:2861157653)\n",
      "chain Vocab(count:1, index:72, sample_int:2861157653)\n",
      "reaction Vocab(count:1, index:73, sample_int:2861157653)\n",
      "direct Vocab(count:1, index:74, sample_int:2861157653)\n",
      "used Vocab(count:1, index:75, sample_int:2861157653)\n",
      "screen Vocab(count:1, index:76, sample_int:2861157653)\n",
      "dna Vocab(count:1, index:77, sample_int:2861157653)\n",
      "samples Vocab(count:1, index:78, sample_int:2861157653)\n",
      "a Vocab(count:1, index:79, sample_int:2861157653)\n",
      "total Vocab(count:1, index:80, sample_int:2861157653)\n",
      "121 Vocab(count:1, index:81, sample_int:2861157653)\n",
      "cochin Vocab(count:1, index:82, sample_int:2861157653)\n",
      "hospital Vocab(count:1, index:83, sample_int:2861157653)\n",
      "included Vocab(count:1, index:84, sample_int:2861157653)\n",
      "carrying Vocab(count:1, index:85, sample_int:2861157653)\n",
      "two Vocab(count:3, index:9, sample_int:1432848787)\n",
      "cftr Vocab(count:1, index:86, sample_int:2861157653)\n",
      "defects Vocab(count:1, index:87, sample_int:2861157653)\n",
      "103 Vocab(count:1, index:88, sample_int:2861157653)\n",
      "developed Vocab(count:1, index:89, sample_int:2861157653)\n",
      "least Vocab(count:1, index:90, sample_int:2861157653)\n",
      "1 Vocab(count:1, index:91, sample_int:2861157653)\n",
      "68 Vocab(count:1, index:92, sample_int:2861157653)\n",
      "identified Vocab(count:1, index:93, sample_int:2861157653)\n",
      "24 Vocab(count:1, index:94, sample_int:2861157653)\n",
      "29/121 Vocab(count:1, index:95, sample_int:2861157653)\n",
      "17 Vocab(count:1, index:96, sample_int:2861157653)\n",
      "3/18 Vocab(count:1, index:97, sample_int:2861157653)\n",
      "of Vocab(count:1, index:98, sample_int:2861157653)\n",
      "29 Vocab(count:1, index:99, sample_int:2861157653)\n",
      "20/68 Vocab(count:1, index:100, sample_int:2861157653)\n",
      "vs Vocab(count:2, index:27, sample_int:1837234957)\n",
      "23 Vocab(count:1, index:101, sample_int:2861157653)\n",
      "8/35 Vocab(count:1, index:102, sample_int:2861157653)\n",
      "without Vocab(count:3, index:10, sample_int:1432848787)\n",
      "interestingly Vocab(count:1, index:103, sample_int:2861157653)\n",
      "p Vocab(count:3, index:11, sample_int:1432848787)\n",
      "tyr263cys Vocab(count:2, index:28, sample_int:1837234957)\n",
      "tend Vocab(count:2, index:29, sample_int:1837234957)\n",
      "frequently Vocab(count:1, index:104, sample_int:2861157653)\n",
      "observed Vocab(count:1, index:105, sample_int:2861157653)\n",
      "4/68 Vocab(count:1, index:106, sample_int:2861157653)\n",
      "0/35 Vocab(count:1, index:107, sample_int:2861157653)\n",
      "frequent Vocab(count:1, index:108, sample_int:2861157653)\n",
      "male Vocab(count:3, index:12, sample_int:1432848787)\n",
      "bearing Vocab(count:2, index:30, sample_int:1837234957)\n",
      "class Vocab(count:2, index:31, sample_int:1837234957)\n",
      "ii Vocab(count:2, index:32, sample_int:1837234957)\n",
      "mutations Vocab(count:2, index:33, sample_int:1837234957)\n",
      " Vocab(count:1, index:109, sample_int:2861157653)\n",
      "0 Vocab(count:1, index:110, sample_int:2861157653)\n",
      "06 Vocab(count:1, index:111, sample_int:2861157653)\n",
      "our Vocab(count:1, index:112, sample_int:2861157653)\n",
      "observations Vocab(count:1, index:113, sample_int:2861157653)\n",
      "reinforce Vocab(count:1, index:114, sample_int:2861157653)\n",
      "especially Vocab(count:1, index:115, sample_int:2861157653)\n",
      "involved Vocab(count:1, index:116, sample_int:2861157653)\n",
      "pathogenesis Vocab(count:1, index:117, sample_int:2861157653)\n"
     ]
    }
   ],
   "source": [
    "for l1, l2 in w2v.wv.vocab.items():\n",
    "    print(l1, l2)\n",
    "\n",
    "#modifier Vocab(count:1, index:35, sample_int:2861157653)\n",
    "#chronic Vocab(count:3, index:8, sample_int:1432848787)\n",
    "#pseudomonas Vocab(count:1, index:36, sample_int:2861157653)"
   ]
  },
  {
   "cell_type": "code",
   "execution_count": 22,
   "metadata": {},
   "outputs": [],
   "source": [
    "# Check it up in GK's code. same variable v in model.py in model_fn\n",
    "#v = np.vstack([embeddings])\n",
    "\n"
   ]
  },
  {
   "cell_type": "raw",
   "metadata": {},
   "source": [
    "#keys = word2id.keys()\n",
    "#values = word2id.values()\n",
    "#vocab_words = tf.contrib.lookup.HashTable(tf.lookup.KeyValueTensorInitializer([i.encode() for i in keys], values), -1)\n",
    "#word_ids = vocab_words.lookup(keys)\n",
    "#pretrained_embeddings = tf.nn.embedding_lookup(v, word_ids)\n",
    "#pretrained_embeddings = tf.layers.dropout(pretrained_embeddings, rate = dropout, training=training)"
   ]
  },
  {
   "cell_type": "code",
   "execution_count": 23,
   "metadata": {},
   "outputs": [],
   "source": [
    "# Writing to a tsv file #####    1\n",
    "\n",
    "\n",
    "keys = list(word2id.keys())\n",
    "value = list(word2id.values())\n",
    "with open('words.tsv', 'wt') as out_file:\n",
    "    tsv_writer = csv.writer(out_file, delimiter='\\t')\n",
    "    tsv_writer.writerow(['Word','vector'])\n",
    "    for key , val in zip(keys, value):\n",
    "        tsv_writer.writerow([key, val])\n",
    "    out_file.close()"
   ]
  },
  {
   "cell_type": "code",
   "execution_count": 38,
   "metadata": {},
   "outputs": [],
   "source": [
    "# Writing to a tsv file ######    2\n",
    "\n",
    "\n",
    "keys = list(word2id.keys())\n",
    "value = list(word2id.values())\n",
    "with open('words.tsv', 'wt') as out_file:\n",
    "    tsv_writer = csv.writer(out_file, delimiter='\\t')\n",
    "    tsv_writer.writerow(['Word'])\n",
    "    for key in keys:\n",
    "        tsv_writer.writerow([key])\n",
    "    out_file.close()"
   ]
  },
  {
   "cell_type": "code",
   "execution_count": 25,
   "metadata": {},
   "outputs": [
    {
     "name": "stdout",
     "output_type": "stream",
     "text": [
      "WARNING:tensorflow:\n",
      "The TensorFlow contrib module will not be included in TensorFlow 2.0.\n",
      "For more information, please see:\n",
      "  * https://github.com/tensorflow/community/blob/master/rfcs/20180907-contrib-sunset.md\n",
      "  * https://github.com/tensorflow/addons\n",
      "  * https://github.com/tensorflow/io (for I/O related ops)\n",
      "If you depend on functionality not listed there, please file an issue.\n",
      "\n"
     ]
    },
    {
     "data": {
      "text/plain": [
       "<tensorflow.python.ops.lookup_ops.IdTableWithHashBuckets at 0x7fa699beee48>"
      ]
     },
     "execution_count": 25,
     "metadata": {},
     "output_type": "execute_result"
    }
   ],
   "source": [
    "vocab_words = tf.contrib.lookup.index_table_from_file(\"words.tsv\", num_oov_buckets=1)\n",
    "vocab_words"
   ]
  },
  {
   "cell_type": "code",
   "execution_count": 54,
   "metadata": {},
   "outputs": [
    {
     "data": {
      "text/plain": [
       "<tf.Tensor 'hash_table_Lookup_2/Select:0' shape=(118,) dtype=int64>"
      ]
     },
     "execution_count": 54,
     "metadata": {},
     "output_type": "execute_result"
    }
   ],
   "source": [
    "words=[]\n",
    "for w in keys:\n",
    "    words.append(w.encode())\n",
    "words = tf.Variable(words, dtype = tf.string , trainable = False)\n",
    "word_ids = vocab_words.lookup(words)\n",
    "word_ids"
   ]
  },
  {
   "cell_type": "code",
   "execution_count": 55,
   "metadata": {},
   "outputs": [
    {
     "name": "stdout",
     "output_type": "stream",
     "text": [
      "WARNING:tensorflow:Entity <bound method Dropout.call of <tensorflow.python.layers.core.Dropout object at 0x7fa68a5ac438>> could not be transformed and will be executed as-is. Please report this to the AutgoGraph team. When filing the bug, set the verbosity to 10 (on Linux, `export AUTOGRAPH_VERBOSITY=10`) and attach the full output. Cause: converting <bound method Dropout.call of <tensorflow.python.layers.core.Dropout object at 0x7fa68a5ac438>>: AssertionError: Bad argument number for Name: 3, expecting 4\n",
      "WARNING: Entity <bound method Dropout.call of <tensorflow.python.layers.core.Dropout object at 0x7fa68a5ac438>> could not be transformed and will be executed as-is. Please report this to the AutgoGraph team. When filing the bug, set the verbosity to 10 (on Linux, `export AUTOGRAPH_VERBOSITY=10`) and attach the full output. Cause: converting <bound method Dropout.call of <tensorflow.python.layers.core.Dropout object at 0x7fa68a5ac438>>: AssertionError: Bad argument number for Name: 3, expecting 4\n"
     ]
    },
    {
     "data": {
      "text/plain": [
       "<tf.Tensor 'dropout_2/dropout/mul_1:0' shape=(118, 300) dtype=float32>"
      ]
     },
     "execution_count": 55,
     "metadata": {},
     "output_type": "execute_result"
    }
   ],
   "source": [
    "v = np.vstack([embeddings, [[0]*300]])\n",
    "v = tf.Variable(v, dtype=tf.float32, trainable=False)\n",
    "\n",
    "pretrained_embeddings = tf.nn.embedding_lookup(v, word_ids)\n",
    "dropout = 0.5\n",
    "pretrained_embeddings = tf.layers.dropout(pretrained_embeddings, rate = dropout, training= True)\n",
    "pretrained_embeddings  \n",
    "# refer https://github.com/guillaumegenthial/tf_ner/blob/e9bca45c7a3d73e1b7ee5ce12ff4f33e4598f9d9/models/chars_lstm_lstm_crf/main.py#L122  for more info"
   ]
  },
  {
   "cell_type": "code",
   "execution_count": null,
   "metadata": {},
   "outputs": [],
   "source": []
  },
  {
   "cell_type": "code",
   "execution_count": null,
   "metadata": {},
   "outputs": [],
   "source": []
  },
  {
   "cell_type": "code",
   "execution_count": null,
   "metadata": {},
   "outputs": [],
   "source": []
  },
  {
   "cell_type": "code",
   "execution_count": 56,
   "metadata": {},
   "outputs": [
    {
     "data": {
      "text/plain": [
       "<tf.Tensor 'transpose_4:0' shape=(300, 118) dtype=float32>"
      ]
     },
     "execution_count": 56,
     "metadata": {},
     "output_type": "execute_result"
    }
   ],
   "source": [
    "t = tf.transpose(pretrained_embeddings, perm=[1,0])\n",
    "t"
   ]
  },
  {
   "cell_type": "code",
   "execution_count": 57,
   "metadata": {},
   "outputs": [],
   "source": [
    "lstm_cell_fw = tf.contrib.rnn.LSTMBlockFusedCell(100)\n",
    "lstm_cell_bw = tf.contrib.rnn.LSTMBlockFusedCell(100)\n",
    "lstm_cell_bw = tf.contrib.rnn.TimeReversedFusedRNN(lstm_cell_bw)"
   ]
  },
  {
   "cell_type": "code",
   "execution_count": 58,
   "metadata": {},
   "outputs": [
    {
     "ename": "ValueError",
     "evalue": "Input 0 of layer lstm_fused_cell is incompatible with the layer: expected ndim=3, found ndim=2. Full shape received: [300, 118]",
     "output_type": "error",
     "traceback": [
      "\u001b[0;31m---------------------------------------------------------------------------\u001b[0m",
      "\u001b[0;31mValueError\u001b[0m                                Traceback (most recent call last)",
      "\u001b[0;32m<ipython-input-58-b359b80e6d21>\u001b[0m in \u001b[0;36m<module>\u001b[0;34m\u001b[0m\n\u001b[0;32m----> 1\u001b[0;31m \u001b[0moutput_fw\u001b[0m\u001b[0;34m,\u001b[0m \u001b[0m_\u001b[0m \u001b[0;34m=\u001b[0m \u001b[0mlstm_cell_fw\u001b[0m\u001b[0;34m(\u001b[0m\u001b[0mt\u001b[0m\u001b[0;34m,\u001b[0m \u001b[0mdtype\u001b[0m\u001b[0;34m=\u001b[0m\u001b[0mtf\u001b[0m\u001b[0;34m.\u001b[0m\u001b[0mfloat32\u001b[0m\u001b[0;34m,\u001b[0m \u001b[0msequence_length\u001b[0m\u001b[0;34m=\u001b[0m\u001b[0;36m118\u001b[0m\u001b[0;34m)\u001b[0m\u001b[0;34m\u001b[0m\u001b[0;34m\u001b[0m\u001b[0m\n\u001b[0m\u001b[1;32m      2\u001b[0m \u001b[0moutput_bw\u001b[0m\u001b[0;34m,\u001b[0m \u001b[0m_\u001b[0m \u001b[0;34m=\u001b[0m \u001b[0mlstm_cell_bw\u001b[0m\u001b[0;34m(\u001b[0m\u001b[0mt\u001b[0m\u001b[0;34m,\u001b[0m \u001b[0mdtype\u001b[0m\u001b[0;34m=\u001b[0m\u001b[0mtf\u001b[0m\u001b[0;34m.\u001b[0m\u001b[0mfloat32\u001b[0m\u001b[0;34m,\u001b[0m \u001b[0msequence_length\u001b[0m\u001b[0;34m=\u001b[0m\u001b[0;36m118\u001b[0m\u001b[0;34m)\u001b[0m\u001b[0;34m\u001b[0m\u001b[0;34m\u001b[0m\u001b[0m\n",
      "\u001b[0;32m~/anaconda3/lib/python3.7/site-packages/tensorflow/python/layers/base.py\u001b[0m in \u001b[0;36m__call__\u001b[0;34m(self, inputs, *args, **kwargs)\u001b[0m\n\u001b[1;32m    535\u001b[0m \u001b[0;34m\u001b[0m\u001b[0m\n\u001b[1;32m    536\u001b[0m       \u001b[0;31m# Actually call layer\u001b[0m\u001b[0;34m\u001b[0m\u001b[0;34m\u001b[0m\u001b[0;34m\u001b[0m\u001b[0m\n\u001b[0;32m--> 537\u001b[0;31m       \u001b[0moutputs\u001b[0m \u001b[0;34m=\u001b[0m \u001b[0msuper\u001b[0m\u001b[0;34m(\u001b[0m\u001b[0mLayer\u001b[0m\u001b[0;34m,\u001b[0m \u001b[0mself\u001b[0m\u001b[0;34m)\u001b[0m\u001b[0;34m.\u001b[0m\u001b[0m__call__\u001b[0m\u001b[0;34m(\u001b[0m\u001b[0minputs\u001b[0m\u001b[0;34m,\u001b[0m \u001b[0;34m*\u001b[0m\u001b[0margs\u001b[0m\u001b[0;34m,\u001b[0m \u001b[0;34m**\u001b[0m\u001b[0mkwargs\u001b[0m\u001b[0;34m)\u001b[0m\u001b[0;34m\u001b[0m\u001b[0;34m\u001b[0m\u001b[0m\n\u001b[0m\u001b[1;32m    538\u001b[0m \u001b[0;34m\u001b[0m\u001b[0m\n\u001b[1;32m    539\u001b[0m     \u001b[0;32mif\u001b[0m \u001b[0;32mnot\u001b[0m \u001b[0mcontext\u001b[0m\u001b[0;34m.\u001b[0m\u001b[0mexecuting_eagerly\u001b[0m\u001b[0;34m(\u001b[0m\u001b[0;34m)\u001b[0m\u001b[0;34m:\u001b[0m\u001b[0;34m\u001b[0m\u001b[0;34m\u001b[0m\u001b[0m\n",
      "\u001b[0;32m~/anaconda3/lib/python3.7/site-packages/tensorflow/python/keras/engine/base_layer.py\u001b[0m in \u001b[0;36m__call__\u001b[0;34m(self, inputs, *args, **kwargs)\u001b[0m\n\u001b[1;32m    584\u001b[0m         \u001b[0;31m# the corresponding TF subgraph inside `backend.get_graph()`\u001b[0m\u001b[0;34m\u001b[0m\u001b[0;34m\u001b[0m\u001b[0;34m\u001b[0m\u001b[0m\n\u001b[1;32m    585\u001b[0m         input_spec.assert_input_compatibility(self.input_spec, inputs,\n\u001b[0;32m--> 586\u001b[0;31m                                               self.name)\n\u001b[0m\u001b[1;32m    587\u001b[0m         \u001b[0mgraph\u001b[0m \u001b[0;34m=\u001b[0m \u001b[0mbackend\u001b[0m\u001b[0;34m.\u001b[0m\u001b[0mget_graph\u001b[0m\u001b[0;34m(\u001b[0m\u001b[0;34m)\u001b[0m\u001b[0;34m\u001b[0m\u001b[0;34m\u001b[0m\u001b[0m\n\u001b[1;32m    588\u001b[0m         \u001b[0;32mwith\u001b[0m \u001b[0mgraph\u001b[0m\u001b[0;34m.\u001b[0m\u001b[0mas_default\u001b[0m\u001b[0;34m(\u001b[0m\u001b[0;34m)\u001b[0m\u001b[0;34m,\u001b[0m \u001b[0mbackend\u001b[0m\u001b[0;34m.\u001b[0m\u001b[0mname_scope\u001b[0m\u001b[0;34m(\u001b[0m\u001b[0mself\u001b[0m\u001b[0;34m.\u001b[0m\u001b[0m_name_scope\u001b[0m\u001b[0;34m(\u001b[0m\u001b[0;34m)\u001b[0m\u001b[0;34m)\u001b[0m\u001b[0;34m:\u001b[0m\u001b[0;34m\u001b[0m\u001b[0;34m\u001b[0m\u001b[0m\n",
      "\u001b[0;32m~/anaconda3/lib/python3.7/site-packages/tensorflow/python/keras/engine/input_spec.py\u001b[0m in \u001b[0;36massert_input_compatibility\u001b[0;34m(input_spec, inputs, layer_name)\u001b[0m\n\u001b[1;32m    121\u001b[0m                          \u001b[0;34m'expected ndim='\u001b[0m \u001b[0;34m+\u001b[0m \u001b[0mstr\u001b[0m\u001b[0;34m(\u001b[0m\u001b[0mspec\u001b[0m\u001b[0;34m.\u001b[0m\u001b[0mndim\u001b[0m\u001b[0;34m)\u001b[0m \u001b[0;34m+\u001b[0m \u001b[0;34m', found ndim='\u001b[0m \u001b[0;34m+\u001b[0m\u001b[0;34m\u001b[0m\u001b[0;34m\u001b[0m\u001b[0m\n\u001b[1;32m    122\u001b[0m                          \u001b[0mstr\u001b[0m\u001b[0;34m(\u001b[0m\u001b[0mndim\u001b[0m\u001b[0;34m)\u001b[0m \u001b[0;34m+\u001b[0m \u001b[0;34m'. Full shape received: '\u001b[0m \u001b[0;34m+\u001b[0m\u001b[0;34m\u001b[0m\u001b[0;34m\u001b[0m\u001b[0m\n\u001b[0;32m--> 123\u001b[0;31m                          str(x.shape.as_list()))\n\u001b[0m\u001b[1;32m    124\u001b[0m     \u001b[0;32mif\u001b[0m \u001b[0mspec\u001b[0m\u001b[0;34m.\u001b[0m\u001b[0mmax_ndim\u001b[0m \u001b[0;32mis\u001b[0m \u001b[0;32mnot\u001b[0m \u001b[0;32mNone\u001b[0m\u001b[0;34m:\u001b[0m\u001b[0;34m\u001b[0m\u001b[0;34m\u001b[0m\u001b[0m\n\u001b[1;32m    125\u001b[0m       \u001b[0mndim\u001b[0m \u001b[0;34m=\u001b[0m \u001b[0mx\u001b[0m\u001b[0;34m.\u001b[0m\u001b[0mshape\u001b[0m\u001b[0;34m.\u001b[0m\u001b[0mndims\u001b[0m\u001b[0;34m\u001b[0m\u001b[0;34m\u001b[0m\u001b[0m\n",
      "\u001b[0;31mValueError\u001b[0m: Input 0 of layer lstm_fused_cell is incompatible with the layer: expected ndim=3, found ndim=2. Full shape received: [300, 118]"
     ]
    }
   ],
   "source": [
    "output_fw, _ = lstm_cell_fw(t, dtype=tf.float32, sequence_length=118)\n",
    "output_bw, _ = lstm_cell_bw(t, dtype=tf.float32, sequence_length=118)"
   ]
  },
  {
   "cell_type": "code",
   "execution_count": 30,
   "metadata": {},
   "outputs": [
    {
     "ename": "NameError",
     "evalue": "name 'output_fw' is not defined",
     "output_type": "error",
     "traceback": [
      "\u001b[0;31m---------------------------------------------------------------------------\u001b[0m",
      "\u001b[0;31mNameError\u001b[0m                                 Traceback (most recent call last)",
      "\u001b[0;32m<ipython-input-30-9783e8b91b9c>\u001b[0m in \u001b[0;36m<module>\u001b[0;34m\u001b[0m\n\u001b[0;32m----> 1\u001b[0;31m \u001b[0moutput\u001b[0m \u001b[0;34m=\u001b[0m \u001b[0mtf\u001b[0m\u001b[0;34m.\u001b[0m\u001b[0mconcat\u001b[0m\u001b[0;34m(\u001b[0m\u001b[0;34m[\u001b[0m\u001b[0moutput_fw\u001b[0m\u001b[0;34m,\u001b[0m \u001b[0moutput_bw\u001b[0m\u001b[0;34m]\u001b[0m\u001b[0;34m,\u001b[0m \u001b[0maxis\u001b[0m\u001b[0;34m=\u001b[0m\u001b[0;34m-\u001b[0m\u001b[0;36m1\u001b[0m\u001b[0;34m)\u001b[0m\u001b[0;34m\u001b[0m\u001b[0;34m\u001b[0m\u001b[0m\n\u001b[0m\u001b[1;32m      2\u001b[0m \u001b[0moutput\u001b[0m \u001b[0;34m=\u001b[0m \u001b[0mtf\u001b[0m\u001b[0;34m.\u001b[0m\u001b[0mtranspose\u001b[0m\u001b[0;34m(\u001b[0m\u001b[0moutput\u001b[0m\u001b[0;34m,\u001b[0m \u001b[0mperm\u001b[0m\u001b[0;34m=\u001b[0m\u001b[0;34m[\u001b[0m\u001b[0;36m1\u001b[0m\u001b[0;34m,\u001b[0m \u001b[0;36m0\u001b[0m\u001b[0;34m]\u001b[0m\u001b[0;34m)\u001b[0m\u001b[0;34m\u001b[0m\u001b[0;34m\u001b[0m\u001b[0m\n",
      "\u001b[0;31mNameError\u001b[0m: name 'output_fw' is not defined"
     ]
    }
   ],
   "source": [
    "output = tf.concat([output_fw, output_bw], axis=-1)\n",
    "output = tf.transpose(output, perm=[1, 0])"
   ]
  },
  {
   "cell_type": "code",
   "execution_count": null,
   "metadata": {},
   "outputs": [],
   "source": []
  }
 ],
 "metadata": {
  "kernelspec": {
   "display_name": "Python 3",
   "language": "python",
   "name": "python3"
  },
  "language_info": {
   "codemirror_mode": {
    "name": "ipython",
    "version": 3
   },
   "file_extension": ".py",
   "mimetype": "text/x-python",
   "name": "python",
   "nbconvert_exporter": "python",
   "pygments_lexer": "ipython3",
   "version": "3.7.3"
  }
 },
 "nbformat": 4,
 "nbformat_minor": 4
}
