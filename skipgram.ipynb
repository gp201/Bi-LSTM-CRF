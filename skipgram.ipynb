{
  "nbformat": 4,
  "nbformat_minor": 0,
  "metadata": {
    "colab": {
      "name": "skipgram.ipynb",
      "provenance": [],
      "include_colab_link": true
    },
    "kernelspec": {
      "name": "python3",
      "display_name": "Python 3"
    },
    "accelerator": "GPU"
  },
  "cells": [
    {
      "cell_type": "markdown",
      "metadata": {
        "id": "view-in-github",
        "colab_type": "text"
      },
      "source": [
        "<a href=\"https://colab.research.google.com/github/gp201/Skipgram/blob/master/skipgram.ipynb\" target=\"_parent\"><img src=\"https://colab.research.google.com/assets/colab-badge.svg\" alt=\"Open In Colab\"/></a>"
      ]
    },
    {
      "cell_type": "code",
      "metadata": {
        "id": "PEsRo_aEjgZ1",
        "colab_type": "code",
        "outputId": "19ac5300-3fb3-484d-97b6-707b05238370",
        "colab": {
          "base_uri": "https://localhost:8080/",
          "height": 255
        }
      },
      "source": [
        "pip install smart_open"
      ],
      "execution_count": 123,
      "outputs": [
        {
          "output_type": "stream",
          "text": [
            "Requirement already satisfied: smart_open in /usr/local/lib/python3.6/dist-packages (1.8.4)\n",
            "Requirement already satisfied: boto3 in /usr/local/lib/python3.6/dist-packages (from smart_open) (1.9.250)\n",
            "Requirement already satisfied: requests in /usr/local/lib/python3.6/dist-packages (from smart_open) (2.21.0)\n",
            "Requirement already satisfied: boto>=2.32 in /usr/local/lib/python3.6/dist-packages (from smart_open) (2.49.0)\n",
            "Requirement already satisfied: s3transfer<0.3.0,>=0.2.0 in /usr/local/lib/python3.6/dist-packages (from boto3->smart_open) (0.2.1)\n",
            "Requirement already satisfied: jmespath<1.0.0,>=0.7.1 in /usr/local/lib/python3.6/dist-packages (from boto3->smart_open) (0.9.4)\n",
            "Requirement already satisfied: botocore<1.13.0,>=1.12.250 in /usr/local/lib/python3.6/dist-packages (from boto3->smart_open) (1.12.250)\n",
            "Requirement already satisfied: idna<2.9,>=2.5 in /usr/local/lib/python3.6/dist-packages (from requests->smart_open) (2.8)\n",
            "Requirement already satisfied: certifi>=2017.4.17 in /usr/local/lib/python3.6/dist-packages (from requests->smart_open) (2019.9.11)\n",
            "Requirement already satisfied: urllib3<1.25,>=1.21.1 in /usr/local/lib/python3.6/dist-packages (from requests->smart_open) (1.24.3)\n",
            "Requirement already satisfied: chardet<3.1.0,>=3.0.2 in /usr/local/lib/python3.6/dist-packages (from requests->smart_open) (3.0.4)\n",
            "Requirement already satisfied: python-dateutil<3.0.0,>=2.1; python_version >= \"2.7\" in /usr/local/lib/python3.6/dist-packages (from botocore<1.13.0,>=1.12.250->boto3->smart_open) (2.5.3)\n",
            "Requirement already satisfied: docutils<0.16,>=0.10 in /usr/local/lib/python3.6/dist-packages (from botocore<1.13.0,>=1.12.250->boto3->smart_open) (0.15.2)\n",
            "Requirement already satisfied: six>=1.5 in /usr/local/lib/python3.6/dist-packages (from python-dateutil<3.0.0,>=2.1; python_version >= \"2.7\"->botocore<1.13.0,>=1.12.250->boto3->smart_open) (1.12.0)\n"
          ],
          "name": "stdout"
        }
      ]
    },
    {
      "cell_type": "code",
      "metadata": {
        "id": "cdroWJKebthd",
        "colab_type": "code",
        "outputId": "0f0aa037-8549-4a36-9882-4b124a681df0",
        "colab": {
          "base_uri": "https://localhost:8080/",
          "height": 68
        }
      },
      "source": [
        "from gensim.models import Word2Vec\n",
        "from smart_open import open\n",
        "import os\n",
        "\n",
        "import tensorflow as tf\n",
        "from tensorflow import keras\n",
        "from sklearn.decomposition import PCA\n",
        "from matplotlib import pyplot\n",
        "\n",
        "import numpy as np \n",
        "import string \n",
        "import nltk\n",
        "# from nltk.corpus import stopwords\n",
        "nltk.download('stopwords')\n",
        "\n",
        "\n"
      ],
      "execution_count": 126,
      "outputs": [
        {
          "output_type": "stream",
          "text": [
            "[nltk_data] Downloading package stopwords to /root/nltk_data...\n",
            "[nltk_data]   Package stopwords is already up-to-date!\n"
          ],
          "name": "stdout"
        },
        {
          "output_type": "execute_result",
          "data": {
            "text/plain": [
              "True"
            ]
          },
          "metadata": {
            "tags": []
          },
          "execution_count": 126
        }
      ]
    },
    {
      "cell_type": "code",
      "metadata": {
        "id": "RlntMv8acWTJ",
        "colab_type": "code",
        "colab": {}
      },
      "source": [
        "# define training data\n",
        "sentences = [['this', 'is', 'the', 'first', 'sentence', 'for', 'word2vec'],\n",
        "\t\t\t['this', 'is', 'the', 'second', 'sentence'],\n",
        "\t\t\t['yet', 'another', 'sentence'],\n",
        "\t\t\t['one', 'more', 'sentence'],\n",
        "\t\t\t['and', 'the', 'final', 'sentence']]"
      ],
      "execution_count": 0,
      "outputs": []
    },
    {
      "cell_type": "code",
      "metadata": {
        "id": "GQnSIJT6z0Zx",
        "colab_type": "code",
        "colab": {}
      },
      "source": [
        "def preprocessing(corpus): \n",
        "    stop_words = set(stopwords.words('english'))     \n",
        "    training_data = [] \n",
        "    sentences = corpus.split(\".\") \n",
        "    for i in range(len(sentences)): \n",
        "        sentences[i] = sentences[i].strip() \n",
        "        sentence = sentences[i].split() \n",
        "        x = [word.strip(string.punctuation) for word in sentence \n",
        "                                     if word not in stop_words] \n",
        "        x = [word.lower() for word in x] \n",
        "        training_data.append(x) \n",
        "    return training_data "
      ],
      "execution_count": 0,
      "outputs": []
    },
    {
      "cell_type": "code",
      "metadata": {
        "id": "EJCDlegGz2UV",
        "colab_type": "code",
        "colab": {}
      },
      "source": [
        "sentences = preprocessing(\"Pseudomonas aeruginosa (Pa) infection in cystic fibrosis (CF) patients is associated with worse long-term pulmonary disease and shorter survival, and chronic Pa infection (CPA) is associated with reduced lung function, faster rate of lung decline, increased rates of exacerbations and shorter survival. By using exome sequencing and extreme phenotype design, it was recently shown that isoforms of dynactin 4 (DCTN4) may influence Pa infection in CF, leading to worse respiratory disease. The purpose of this study was to investigate the role of DCTN4 missense variants on Pa infection incidence, age at first Pa infection and chronic Pa infection incidence in a cohort of adult CF patients from a single centre. Polymerase chain reaction and direct sequencing were used to screen DNA samples for DCTN4 variants. A total of 121 adult CF patients from the Cochin Hospital CF centre have been included, all of them carrying two CFTR defects: 103 developed at least 1 pulmonary infection with Pa, and 68 patients of them had CPA. DCTN4 variants were identified in 24% (29/121) CF patients with Pa infection and in only 17% (3/18) CF patients with no Pa infection. Of the patients with CPA, 29% (20/68) had DCTN4 missense variants vs 23% (8/35) in patients without CPA. Interestingly, p.Tyr263Cys tend to be more frequently observed in CF patients with CPA than in patients without CPA (4/68 vs 0/35), and DCTN4 missense variants tend to be more frequent in male CF patients with CPA bearing two class II mutations than in male CF patients without CPA bearing two class II mutations (P = 0.06). Our observations reinforce that DCTN4 missense variants, especially p.Tyr263Cys, may be involved in the pathogenesis of CPA in male CF.\")"
      ],
      "execution_count": 0,
      "outputs": []
    },
    {
      "cell_type": "code",
      "metadata": {
        "id": "8_AroPabcZQf",
        "colab_type": "code",
        "colab": {}
      },
      "source": [
        "# train model\n",
        "# model = Word2Vec(corpus_file=\"corpus_pubtator.txt\", min_count=1, size=256)\n",
        "model = Word2Vec(sentences, min_count=1, size=256, sg=1)"
      ],
      "execution_count": 0,
      "outputs": []
    },
    {
      "cell_type": "code",
      "metadata": {
        "id": "HpLUxcERcaZr",
        "colab_type": "code",
        "outputId": "d8b067b9-0874-447c-ce43-f61b0ef307c8",
        "colab": {
          "base_uri": "https://localhost:8080/",
          "height": 34
        }
      },
      "source": [
        "# summarize the loaded model\n",
        "print(model)"
      ],
      "execution_count": 130,
      "outputs": [
        {
          "output_type": "stream",
          "text": [
            "Word2Vec(vocab=115, size=256, alpha=0.025)\n"
          ],
          "name": "stdout"
        }
      ]
    },
    {
      "cell_type": "code",
      "metadata": {
        "id": "JjcdyxfOcbuj",
        "colab_type": "code",
        "outputId": "52ce1e78-0c4b-4179-c72f-196e036ffcef",
        "colab": {
          "base_uri": "https://localhost:8080/",
          "height": 54
        }
      },
      "source": [
        "# summarize vocabulary\n",
        "words = list(model.wv.vocab)\n",
        "print(words)"
      ],
      "execution_count": 131,
      "outputs": [
        {
          "output_type": "stream",
          "text": [
            "['pseudomonas', 'aeruginosa', 'pa', 'infection', 'cystic', 'fibrosis', 'cf', 'patients', 'associated', 'worse', 'long-term', 'pulmonary', 'disease', 'shorter', 'survival', 'chronic', 'cpa', 'reduced', 'lung', 'function', 'faster', 'rate', 'decline', 'increased', 'rates', 'exacerbations', 'by', 'using', 'exome', 'sequencing', 'extreme', 'phenotype', 'design', 'recently', 'shown', 'isoforms', 'dynactin', '4', 'dctn4', 'may', 'influence', 'leading', 'respiratory', 'the', 'purpose', 'study', 'investigate', 'role', 'missense', 'variants', 'incidence', 'age', 'first', 'cohort', 'adult', 'single', 'centre', 'polymerase', 'chain', 'reaction', 'direct', 'used', 'screen', 'dna', 'samples', 'a', 'total', '121', 'cochin', 'hospital', 'included', 'carrying', 'two', 'cftr', 'defects', '103', 'developed', 'least', '1', '68', 'identified', '24', '29/121', '17', '3/18', 'of', '29', '20/68', 'vs', '23', '8/35', 'without', 'interestingly', 'p', 'tyr263cys', 'tend', 'frequently', 'observed', '4/68', '0/35', 'frequent', 'male', 'bearing', 'class', 'ii', 'mutations', '', '0', '06', 'our', 'observations', 'reinforce', 'especially', 'involved', 'pathogenesis']\n"
          ],
          "name": "stdout"
        }
      ]
    },
    {
      "cell_type": "code",
      "metadata": {
        "id": "_3MfQxnVcdKU",
        "colab_type": "code",
        "outputId": "31486cee-14d1-4d6c-cdb0-ca318de1d8bd",
        "colab": {
          "base_uri": "https://localhost:8080/",
          "height": 1000
        }
      },
      "source": [
        "# access vector for one word\n",
        "print(model['male'])"
      ],
      "execution_count": 135,
      "outputs": [
        {
          "output_type": "stream",
          "text": [
            "[ 1.9253263e-03 -1.1900460e-04 -6.8949925e-04 -2.5623050e-04\n",
            " -5.5235071e-04 -1.5257086e-03 -1.3670705e-03  1.5441400e-03\n",
            "  6.3042663e-04 -1.7073053e-03 -4.8008774e-04  1.1430803e-03\n",
            "  2.2248389e-05 -5.3068640e-04  9.7714528e-04  1.8201683e-03\n",
            " -9.0480153e-04  8.2634611e-04  8.8219793e-04 -9.4898758e-05\n",
            " -1.2884135e-04 -1.4666036e-03  9.7663526e-04 -1.6421438e-04\n",
            "  1.3636652e-03 -4.7890688e-04 -1.7049857e-03  1.7339720e-03\n",
            " -1.4464334e-03  5.8784019e-05 -1.8759577e-03 -1.0442594e-03\n",
            "  8.7620062e-04  1.0535030e-03 -1.5532272e-03  1.6516149e-03\n",
            " -1.7740109e-03  2.1427986e-04  4.9175642e-04 -1.7042193e-03\n",
            "  7.3052870e-05  8.4599538e-04  3.1873045e-04 -9.7200379e-04\n",
            " -2.1887466e-04 -1.1962563e-03 -1.0688467e-03  4.0059708e-04\n",
            " -1.0061224e-03 -1.7166535e-03 -1.4423285e-04  1.4652312e-03\n",
            " -1.1501231e-03  7.3742308e-04 -1.7693854e-03  2.2023889e-04\n",
            "  1.8972791e-03  1.6223491e-03  8.9179340e-04 -6.2825129e-04\n",
            " -1.3150158e-03 -1.9035162e-03 -2.4492937e-04  1.1357047e-03\n",
            " -4.7761516e-04  1.9145387e-03  6.9117121e-04  3.5903812e-04\n",
            "  1.5125406e-03 -1.2520015e-03  5.3691649e-04 -6.9388654e-04\n",
            " -8.4817136e-04  6.2034735e-05 -1.4933115e-03  2.2857993e-04\n",
            " -1.2298204e-03  8.7679306e-04  1.8779333e-03  6.8612822e-04\n",
            " -5.2949344e-04 -1.0882173e-03 -6.2351883e-04  1.0687172e-03\n",
            " -9.3373389e-04  8.5623132e-04 -1.9223843e-03 -1.3175776e-03\n",
            " -1.4838192e-03  2.2571068e-04  8.2324102e-04  2.8884501e-04\n",
            "  6.7383517e-04 -1.4401809e-04 -5.6662544e-04  1.2481208e-03\n",
            "  1.4529057e-03  1.3273613e-03  1.9247000e-03 -6.8898668e-04\n",
            " -1.7308012e-03  5.4256368e-04  1.3366742e-03 -1.3565914e-03\n",
            " -1.9032632e-03 -1.4773440e-03  8.8768505e-04  8.1536622e-05\n",
            " -1.8978096e-03 -6.7198050e-04 -8.3192001e-04 -1.0620041e-03\n",
            "  4.9029419e-04  1.3563015e-03 -4.2558397e-04  2.6210109e-04\n",
            " -1.4644203e-03  1.4983608e-05  4.3508448e-04 -1.8318134e-04\n",
            "  3.5593410e-05  1.0910396e-03 -4.3305167e-04 -1.0746120e-03\n",
            "  1.6358920e-03  1.2968034e-03  1.3146293e-03 -1.7479609e-03\n",
            " -1.7207544e-03  1.0376373e-04 -8.5825601e-04 -1.5433974e-03\n",
            " -1.3616754e-04 -6.9360837e-04  1.1087102e-03 -1.5404115e-03\n",
            "  1.5375930e-03  1.7341140e-03 -5.9141876e-04 -1.5647333e-03\n",
            " -1.4046568e-03  3.6910182e-04  1.4610225e-03 -4.5761341e-04\n",
            " -5.8400520e-04 -1.1415635e-03  1.5529142e-03  1.8608165e-03\n",
            " -3.0094181e-04 -1.1073548e-03  9.6793013e-04 -1.8538613e-03\n",
            " -1.2321491e-03  1.2609756e-03 -1.6919776e-03 -7.7815884e-04\n",
            "  1.4554204e-03  1.9284810e-03 -1.7316143e-03 -1.8929924e-04\n",
            "  4.3832808e-04 -1.3239797e-03  3.2923100e-04 -1.6493270e-04\n",
            "  8.7907352e-04  4.8449071e-04  1.1126758e-03 -2.6821051e-06\n",
            "  1.2114572e-03 -6.0635188e-04 -7.1505917e-04  1.1415448e-03\n",
            "  1.1392320e-03 -1.9199022e-03 -1.8197893e-03  7.7398570e-04\n",
            " -1.1621434e-03 -1.7639946e-03 -1.7423818e-03  8.4806833e-04\n",
            " -1.3473280e-03 -1.6612436e-03  1.3075032e-03  1.8326320e-03\n",
            " -4.4899329e-04 -1.2937965e-03  7.9131738e-04 -1.6810843e-03\n",
            " -3.7523845e-04  9.3297922e-04 -3.2500245e-04 -1.8583901e-03\n",
            " -1.1105055e-03  5.6108035e-04 -1.0210054e-03 -4.9701094e-04\n",
            " -5.7700649e-04 -9.3307166e-04  8.9905207e-04  1.9366933e-03\n",
            "  1.3115604e-03  5.2433484e-04  6.6178123e-04  2.7697373e-04\n",
            "  1.6115214e-03  1.2357799e-04 -5.3590495e-04  7.3964673e-04\n",
            "  5.8935231e-05 -4.8959634e-04  1.4900786e-03  1.0032777e-03\n",
            " -6.3221477e-04 -2.2833348e-04 -9.6841675e-04  2.3150932e-04\n",
            " -5.5481028e-04 -1.0895377e-03  5.9450389e-04  1.0806078e-03\n",
            " -3.0341814e-04 -2.0790932e-04 -1.7283404e-03  6.7461934e-04\n",
            "  3.6966486e-04  3.4464087e-04 -9.9989329e-04  1.0906744e-03\n",
            "  5.4732239e-04  3.3121958e-04 -5.8744039e-04  1.7348941e-03\n",
            " -1.7226830e-03 -1.5506466e-03  2.2269374e-04  1.4641067e-03\n",
            "  8.8644854e-04  1.8477681e-03  1.3022297e-03 -1.4186268e-03\n",
            " -7.1081682e-04 -7.7434315e-04  1.1098931e-03  9.2602859e-04\n",
            "  4.6197965e-04  1.4657760e-03  1.0824316e-03 -5.6234800e-04\n",
            " -2.8963585e-04 -1.8810099e-03 -1.6080834e-03 -1.7383752e-03\n",
            "  1.2123237e-03  5.1688630e-04 -1.3902162e-03  3.3402303e-04]\n"
          ],
          "name": "stdout"
        },
        {
          "output_type": "stream",
          "text": [
            "/usr/local/lib/python3.6/dist-packages/ipykernel_launcher.py:1: DeprecationWarning: Call to deprecated `__getitem__` (Method will be removed in 4.0.0, use self.wv.__getitem__() instead).\n",
            "  \"\"\"Entry point for launching an IPython kernel.\n"
          ],
          "name": "stderr"
        }
      ]
    },
    {
      "cell_type": "code",
      "metadata": {
        "id": "vasphvKOh-0f",
        "colab_type": "code",
        "outputId": "fd3524a3-4668-4fc1-c681-374611a227e8",
        "colab": {
          "base_uri": "https://localhost:8080/",
          "height": 1000
        }
      },
      "source": [
        "for i,word in enumerate(model.wv.vocab):\n",
        "  print(i,word)"
      ],
      "execution_count": 136,
      "outputs": [
        {
          "output_type": "stream",
          "text": [
            "0 pseudomonas\n",
            "1 aeruginosa\n",
            "2 pa\n",
            "3 infection\n",
            "4 cystic\n",
            "5 fibrosis\n",
            "6 cf\n",
            "7 patients\n",
            "8 associated\n",
            "9 worse\n",
            "10 long-term\n",
            "11 pulmonary\n",
            "12 disease\n",
            "13 shorter\n",
            "14 survival\n",
            "15 chronic\n",
            "16 cpa\n",
            "17 reduced\n",
            "18 lung\n",
            "19 function\n",
            "20 faster\n",
            "21 rate\n",
            "22 decline\n",
            "23 increased\n",
            "24 rates\n",
            "25 exacerbations\n",
            "26 by\n",
            "27 using\n",
            "28 exome\n",
            "29 sequencing\n",
            "30 extreme\n",
            "31 phenotype\n",
            "32 design\n",
            "33 recently\n",
            "34 shown\n",
            "35 isoforms\n",
            "36 dynactin\n",
            "37 4\n",
            "38 dctn4\n",
            "39 may\n",
            "40 influence\n",
            "41 leading\n",
            "42 respiratory\n",
            "43 the\n",
            "44 purpose\n",
            "45 study\n",
            "46 investigate\n",
            "47 role\n",
            "48 missense\n",
            "49 variants\n",
            "50 incidence\n",
            "51 age\n",
            "52 first\n",
            "53 cohort\n",
            "54 adult\n",
            "55 single\n",
            "56 centre\n",
            "57 polymerase\n",
            "58 chain\n",
            "59 reaction\n",
            "60 direct\n",
            "61 used\n",
            "62 screen\n",
            "63 dna\n",
            "64 samples\n",
            "65 a\n",
            "66 total\n",
            "67 121\n",
            "68 cochin\n",
            "69 hospital\n",
            "70 included\n",
            "71 carrying\n",
            "72 two\n",
            "73 cftr\n",
            "74 defects\n",
            "75 103\n",
            "76 developed\n",
            "77 least\n",
            "78 1\n",
            "79 68\n",
            "80 identified\n",
            "81 24\n",
            "82 29/121\n",
            "83 17\n",
            "84 3/18\n",
            "85 of\n",
            "86 29\n",
            "87 20/68\n",
            "88 vs\n",
            "89 23\n",
            "90 8/35\n",
            "91 without\n",
            "92 interestingly\n",
            "93 p\n",
            "94 tyr263cys\n",
            "95 tend\n",
            "96 frequently\n",
            "97 observed\n",
            "98 4/68\n",
            "99 0/35\n",
            "100 frequent\n",
            "101 male\n",
            "102 bearing\n",
            "103 class\n",
            "104 ii\n",
            "105 mutations\n",
            "106 \n",
            "107 0\n",
            "108 06\n",
            "109 our\n",
            "110 observations\n",
            "111 reinforce\n",
            "112 especially\n",
            "113 involved\n",
            "114 pathogenesis\n"
          ],
          "name": "stdout"
        }
      ]
    },
    {
      "cell_type": "code",
      "metadata": {
        "id": "HmyrvFrkcgu0",
        "colab_type": "code",
        "outputId": "50b8967a-e994-43a8-cc07-993e6e2f09b6",
        "colab": {
          "base_uri": "https://localhost:8080/",
          "height": 303
        }
      },
      "source": [
        "X = model[model.wv.vocab]\n",
        "pca = PCA(n_components=2)\n",
        "result = pca.fit_transform(X)\n",
        "# create a scatter plot of the projection\n",
        "pyplot.scatter(result[:, 0], result[:, 1])\n",
        "words = list(model.wv.vocab)\n",
        "#for i, word in enumerate(words):\n",
        "#\t\tpyplot.annotate(word, xy=(result[i, 0], result[i, 1]))\n",
        "pyplot.annotate('age', xy=(result[51, 0], result[51, 1]))\n",
        "pyplot.show()"
      ],
      "execution_count": 138,
      "outputs": [
        {
          "output_type": "stream",
          "text": [
            "/usr/local/lib/python3.6/dist-packages/ipykernel_launcher.py:1: DeprecationWarning: Call to deprecated `__getitem__` (Method will be removed in 4.0.0, use self.wv.__getitem__() instead).\n",
            "  \"\"\"Entry point for launching an IPython kernel.\n"
          ],
          "name": "stderr"
        },
        {
          "output_type": "display_data",
          "data": {
            "image/png": "[encoded data removed]",
            "text/plain": [
              "<Figure size 432x288 with 1 Axes>"
            ]
          },
          "metadata": {
            "tags": []
          }
        }
      ]
    }
  ]
}