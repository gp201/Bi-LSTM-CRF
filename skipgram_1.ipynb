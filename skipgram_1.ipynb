{
  "nbformat": 4,
  "nbformat_minor": 0,
  "metadata": {
    "colab": {
      "name": "skipgram-1.ipynb",
      "provenance": [],
      "include_colab_link": true
    },
    "kernelspec": {
      "name": "python3",
      "display_name": "Python 3"
    }
  },
  "cells": [
    {
      "cell_type": "markdown",
      "metadata": {
        "id": "view-in-github",
        "colab_type": "text"
      },
      "source": [
        "<a href=\"https://colab.research.google.com/github/gp201/Skipgram/blob/master/skipgram_1.ipynb\" target=\"_parent\"><img src=\"https://colab.research.google.com/assets/colab-badge.svg\" alt=\"Open In Colab\"/></a>"
      ]
    },
    {
      "cell_type": "code",
      "metadata": {
        "id": "cdroWJKebthd",
        "colab_type": "code",
        "colab": {}
      },
      "source": [
        "from gensim.models import Word2Vec\n",
        "from smart_open import open\n",
        "import os\n",
        "\n",
        "import tensorflow as tf\n",
        "from tensorflow import keras\n",
        "from sklearn.decomposition import PCA\n",
        "from matplotlib import pyplot\n",
        "\n",
        "import numpy as np \n",
        "import string \n",
        "import nltk\n",
        "from nltk.corpus import stopwords\n",
        "#nltk.download('stopwords')\n",
        "\n",
        "\n"
      ],
      "execution_count": 0,
      "outputs": []
    },
    {
      "cell_type": "code",
      "metadata": {
        "id": "32v-Mvz5MGt1",
        "colab_type": "code",
        "colab": {}
      },
      "source": [
        "file = open(\"data.txt\",mode='r')"
      ],
      "execution_count": 0,
      "outputs": []
    },
    {
      "cell_type": "code",
      "metadata": {
        "id": "1CbGsemyNoMq",
        "colab_type": "code",
        "colab": {}
      },
      "source": [
        "num_lines = sum(1 for line in open('data.txt'))"
      ],
      "execution_count": 0,
      "outputs": []
    },
    {
      "cell_type": "code",
      "metadata": {
        "id": "T7I7HpEyNFbe",
        "colab_type": "code",
        "outputId": "00b5c64a-224b-4b10-caef-c8c60295b036",
        "colab": {
          "base_uri": "https://localhost:8080/",
          "height": 34
        }
      },
      "source": [
        "#transferring data to str\n",
        "#each line is one list\n",
        "file.seek(0,0)\n",
        "str = file.readlines()\n",
        "str[1]"
      ],
      "execution_count": 87,
      "outputs": [
        {
          "output_type": "execute_result",
          "data": {
            "text/plain": [
              "'25763772\\t23\\t63\\tchronic Pseudomonas aeruginosa infection\\tT047\\tC0854135\\n'"
            ]
          },
          "metadata": {
            "tags": []
          },
          "execution_count": 87
        }
      ]
    },
    {
      "cell_type": "code",
      "metadata": {
        "id": "X5KZKi95Sx6d",
        "colab_type": "code",
        "outputId": "e2bdedb2-5156-42c2-824a-a036b9c66e75",
        "colab": {
          "base_uri": "https://localhost:8080/",
          "height": 34
        }
      },
      "source": [
        "#testing\n",
        "\n",
        "import re\n",
        "i=1\n",
        "regex = re.compile(r'[\\n\\r\\t]')\n",
        "str[i] = regex.sub(\" \", str[i])\n",
        "str[i]\n",
        "check = str[i].split()\n",
        "check.pop(1)\n",
        "check.pop(1)\n",
        "print(check)"
      ],
      "execution_count": 0,
      "outputs": [
        {
          "output_type": "stream",
          "text": [
            "['25763772', 'chronic', 'Pseudomonas', 'aeruginosa', 'infection', 'T047', 'C0854135']\n"
          ],
          "name": "stdout"
        }
      ]
    },
    {
      "cell_type": "code",
      "metadata": {
        "id": "36Efgl8VO3Co",
        "colab_type": "code",
        "colab": {}
      },
      "source": [
        "import re\n",
        "def preprocessing2(corpus):\n",
        "  training_data = []\n",
        "  for i in range(len(str)):\n",
        "    regex = re.compile(r'[\\n\\r\\t]')\n",
        "    str[i] = regex.sub(\" \", str[i])\n",
        "    check = str[i].split()\n",
        "    check.pop(1)\n",
        "    check.pop(1)\n",
        "    check = [word.lower() for word in check] \n",
        "    training_data.append(check) \n",
        "  return training_data"
      ],
      "execution_count": 0,
      "outputs": []
    },
    {
      "cell_type": "code",
      "metadata": {
        "id": "7XPzcRNHPT6T",
        "colab_type": "code",
        "colab": {
          "base_uri": "https://localhost:8080/",
          "height": 54
        },
        "outputId": "3cc27bc8-107e-49f5-81fe-dc493e41f962"
      },
      "source": [
        "str = preprocessing2(str)\n",
        "print(str)"
      ],
      "execution_count": 89,
      "outputs": [
        {
          "output_type": "stream",
          "text": [
            "[['63772', 'dctn4', 't116,t123', 'c4308010'], ['25763772', 'chronic', 'pseudomonas', 'aeruginosa', 'infection', 't047', 'c0854135'], ['25763772', 'cystic', 'fibrosis', 't047', 'c0010674'], ['25763772', 'pseudomonas', 'aeruginosa', '(pa)', 'infection', 't047', 'c0854135'], ['25763772', 'cystic', 'fibrosis', 't047', 'c0010674'], ['25763772', 'cf', 't047', 'c0010674'], ['25763772', 'patients', 't101', 'c0030705'], ['25763772', 'long-term', 't079', 'c0443252'], ['25763772', 'pulmonary', 'disease', 't047', 'c0024115'], ['25763772', 'shorter', 'survival', 't169', 'c0220921'], ['25763772', 'chronic', 'pa', 'infection', 't047', 'c0854135'], ['25763772', 'cpa', 't047', 'c0854135'], ['25763772', 'reduced', 'lung', 'function', 't033', 'c0847557'], ['25763772', 'faster', 'rate', 'of', 'lung', 'decline', 't033', 'c3160731'], ['25763772', 'rates', 't081', 'c1521828'], ['25763772', 'exacerbations', 't033', 'c4086268'], ['25763772', 'shorter', 'survival', 't169', 'c0220921'], ['25763772', 'exome', 'sequencing', 't063', 'c3640077'], ['25763772', 'extreme', 'phenotype', 'design', 't052', 'c1707689'], ['25763772', 'isoforms', 't116', 'c0597298'], ['25763772', 'dynactin', '4', 't116,t123', 'c4308010'], ['25763772', 'dctn4', 't116,t123', 'c4308010'], ['25763772', 'pa', 'infection', 't047', 'c0854135'], ['25763772', 'cf', 't047', 'c0010674'], ['25763772', 'respiratory', 'disease', 't047', 'c0035204'], ['25763772', 'study', 't062', 'c2603343'], ['25763772', 'investigate', 't169', 'c1292732'], ['25763772', 'dctn4', 't116,t123', 'c4308010'], ['25763772', 'missense', 't033', 'c3845273'], ['25763772', 'variants', 't116', 'c0597298'], ['25763772', 'pa', 'infection', 't047', 'c0854135'], ['25763772', 'incidence', 't081', 'c0021149'], ['25763772', 'age', 't032', 'c0001779'], ['25763772', 'pa', 'infection', 't047', 'c0854135'], ['25763772', 'chronic', 'pa', 'infection', 't047', 'c0854135'], ['25763772', 'incidence', 't081', 'c0021149'], ['25763772', 'cohort', 't098', 'c0599755'], ['25763772', 'adult', 't100', 'c0001675'], ['25763772', 'cf', 't047', 'c0010674'], ['25763772', 'patients', 't101', 'c0030705'], ['25763772', 'centre', 't073,t093', 'c0475309'], ['25763772', 'polymerase', 'chain', 'reaction', 't063', 'c0032520'], ['25763772', 'direct', 'sequencing', 't063', 'c3899368'], ['25763772', 'dna', 'samples', 't026', 'c0444245'], ['25763772', 'dctn4', 't116,t123', 'c4308010'], ['25763772', 'variants', 't116', 'c0597298'], ['25763772', 'adult', 't100', 'c0001675'], ['25763772', 'cf', 't047', 'c0010674'], ['25763772', 'patients', 't101', 'c0030705'], ['25763772', 'cochin', 'hospital', 'cf', 'centre', 't073,t093', 'c0019994'], ['25763772', 'cftr', 't028', 'c1413365'], ['25763772', 'defects', 't169', 'c0243067'], ['25763772', 'pulmonary', 'infection', 't047', 'c0876973'], ['25763772', 'pa', 't007', 'c0033809'], ['25763772', 'patients', 't101', 'c0030705'], ['25763772', 'cpa', 't047', 'c0854135'], ['25763772', 'dctn4', 't116,t123', 'c4308010'], ['25763772', 'variants', 't116', 'c0597298'], ['25763772', 'cf', 't047', 'c0010674'], ['25763772', 'patients', 't101', 'c0030705'], ['25763772', 'pa', 'infection', 't047', 'c0854135'], ['25763772', 'cf', 't047', 'c0010674'], ['25763772', 'patients', 't101', 'c0030705'], ['25763772', 'pa', 'infection', 't047', 'c0854135'], ['25763772', 'patients', 't101', 'c0030705'], ['25763772', 'cpa', 't047', 'c0854135'], ['25763772', 'dctn4', 't116,t123', 'c4308010'], ['25763772', 'missense', 't033', 'c3845273'], ['25763772', 'variants', 't116', 'c0597298'], ['25763772', 'patients', 't101', 'c0030705'], ['25763772', 'cpa', 't047', 'c0854135'], ['25763772', 'p.tyr263cys', 't116', 'c0597298'], ['25763772', 'cf', 't047', 'c0010674'], ['25763772', 'patients', 't101', 'c0030705'], ['25763772', 'cpa', 't047', 'c0854135'], ['25763772', 'patients', 't101', 'c0030705'], ['25763772', 'cpa', 't047', 'c0854135'], ['25763772', 'dctn4', 't116,t123', 'c4308010'], ['25763772', 'missense', 't033', 'c3845273'], ['25763772', 'variants', 't116', 'c0597298'], ['25763772', 'male', 't032', 'c0086582'], ['25763772', 'cf', 't047', 'c0010674'], ['25763772', 'patients', 't101', 'c0030705'], ['25763772', 'cpa', 't047', 'c0854135'], ['25763772', 'class', 'ii', 'mutations', 't045', 'c0026882'], ['25763772', 'male', 't032', 'c0086582'], ['25763772', 'cf', 't047', 'c0010674'], ['25763772', 'patients', 't101', 'c0030705'], ['25763772', 'cpa', 't047', 'c0854135'], ['25763772', 'class', 'ii', 'mutations', 't045', 'c0026882'], ['25763772', 'dctn4', 't116,t123', 'c4308010'], ['25763772', 'missense', 't033', 'c3845273'], ['25763772', 'variants', 't116', 'c0597298'], ['25763772', 'p.tyr263cys', 't116', 'c0597298'], ['25763772', 'pathogenesis', 't046', 'c0699748'], ['25763772', 'cpa', 't047', 'c0854135'], ['25763772', 'male', 't032', 'c0086582'], ['25763772', 'cf', 't047', 'c0010674']]\n"
          ],
          "name": "stdout"
        }
      ]
    },
    {
      "cell_type": "code",
      "metadata": {
        "id": "ztXkgvc-U6U8",
        "colab_type": "code",
        "colab": {}
      },
      "source": [
        "model = Word2Vec(str, min_count=1, size=256, sg=1,iter=10)"
      ],
      "execution_count": 0,
      "outputs": []
    },
    {
      "cell_type": "code",
      "metadata": {
        "id": "Qdh2zwwwVITs",
        "colab_type": "code",
        "outputId": "83b87c96-e2f5-42cc-c087-58e7e872048e",
        "colab": {
          "base_uri": "https://localhost:8080/",
          "height": 34
        }
      },
      "source": [
        "print(model)"
      ],
      "execution_count": 91,
      "outputs": [
        {
          "output_type": "stream",
          "text": [
            "Word2Vec(vocab=116, size=256, alpha=0.025)\n"
          ],
          "name": "stdout"
        }
      ]
    },
    {
      "cell_type": "code",
      "metadata": {
        "id": "UKb7jupCVI8Y",
        "colab_type": "code",
        "outputId": "f4d5588f-0869-4c8f-aacf-3ae81eb153e0",
        "colab": {
          "base_uri": "https://localhost:8080/",
          "height": 54
        }
      },
      "source": [
        "words = list(model.wv.vocab)\n",
        "print(words)"
      ],
      "execution_count": 92,
      "outputs": [
        {
          "output_type": "stream",
          "text": [
            "['63772', 'dctn4', 't116,t123', 'c4308010', '25763772', 'chronic', 'pseudomonas', 'aeruginosa', 'infection', 't047', 'c0854135', 'cystic', 'fibrosis', 'c0010674', '(pa)', 'cf', 'patients', 't101', 'c0030705', 'long-term', 't079', 'c0443252', 'pulmonary', 'disease', 'c0024115', 'shorter', 'survival', 't169', 'c0220921', 'pa', 'cpa', 'reduced', 'lung', 'function', 't033', 'c0847557', 'faster', 'rate', 'of', 'decline', 'c3160731', 'rates', 't081', 'c1521828', 'exacerbations', 'c4086268', 'exome', 'sequencing', 't063', 'c3640077', 'extreme', 'phenotype', 'design', 't052', 'c1707689', 'isoforms', 't116', 'c0597298', 'dynactin', '4', 'respiratory', 'c0035204', 'study', 't062', 'c2603343', 'investigate', 'c1292732', 'missense', 'c3845273', 'variants', 'incidence', 'c0021149', 'age', 't032', 'c0001779', 'cohort', 't098', 'c0599755', 'adult', 't100', 'c0001675', 'centre', 't073,t093', 'c0475309', 'polymerase', 'chain', 'reaction', 'c0032520', 'direct', 'c3899368', 'dna', 'samples', 't026', 'c0444245', 'cochin', 'hospital', 'c0019994', 'cftr', 't028', 'c1413365', 'defects', 'c0243067', 'c0876973', 't007', 'c0033809', 'p.tyr263cys', 'male', 'c0086582', 'class', 'ii', 'mutations', 't045', 'c0026882', 'pathogenesis', 't046', 'c0699748']\n"
          ],
          "name": "stdout"
        }
      ]
    },
    {
      "cell_type": "code",
      "metadata": {
        "id": "cF1i7lnIYYu5",
        "colab_type": "code",
        "outputId": "da38f4c3-6821-4256-afbf-e18c2bdebc8e",
        "colab": {
          "base_uri": "https://localhost:8080/",
          "height": 72
        }
      },
      "source": [
        "model.save(\"word2vec.model\")"
      ],
      "execution_count": 0,
      "outputs": [
        {
          "output_type": "stream",
          "text": [
            "/usr/local/lib/python3.6/dist-packages/smart_open/smart_open_lib.py:398: UserWarning: This function is deprecated, use smart_open.open instead. See the migration notes for details: https://github.com/RaRe-Technologies/smart_open/blob/master/README.rst#migrating-to-the-new-open-function\n",
            "  'See the migration notes for details: %s' % _MIGRATION_NOTES_URL\n"
          ],
          "name": "stderr"
        }
      ]
    },
    {
      "cell_type": "code",
      "metadata": {
        "id": "fLYmjW_BV8Ry",
        "colab_type": "code",
        "colab": {}
      },
      "source": [
        "print(model['dctn4'])"
      ],
      "execution_count": 0,
      "outputs": []
    },
    {
      "cell_type": "code",
      "metadata": {
        "id": "Xc5t4ozHgfiF",
        "colab_type": "code",
        "outputId": "b5716665-225e-409b-922b-3fefb76b31b6",
        "colab": {
          "base_uri": "https://localhost:8080/",
          "height": 283
        }
      },
      "source": [
        "model.most_similar(positive=\"chronic\")"
      ],
      "execution_count": 97,
      "outputs": [
        {
          "output_type": "stream",
          "text": [
            "/usr/local/lib/python3.6/dist-packages/ipykernel_launcher.py:1: DeprecationWarning: Call to deprecated `most_similar` (Method will be removed in 4.0.0, use self.wv.most_similar() instead).\n",
            "  \"\"\"Entry point for launching an IPython kernel.\n",
            "/usr/local/lib/python3.6/dist-packages/gensim/matutils.py:737: FutureWarning: Conversion of the second argument of issubdtype from `int` to `np.signedinteger` is deprecated. In future, it will be treated as `np.int64 == np.dtype(int).type`.\n",
            "  if np.issubdtype(vec.dtype, np.int):\n"
          ],
          "name": "stderr"
        },
        {
          "output_type": "execute_result",
          "data": {
            "text/plain": [
              "[('pulmonary', 0.17337992787361145),\n",
              " ('t026', 0.14142367243766785),\n",
              " ('rate', 0.13227608799934387),\n",
              " ('c1292732', 0.1314772367477417),\n",
              " ('c0243067', 0.11368898302316666),\n",
              " ('investigate', 0.11188448220491409),\n",
              " ('dna', 0.10785675793886185),\n",
              " ('c0876973', 0.1053190752863884),\n",
              " ('sequencing', 0.10489369928836823),\n",
              " ('faster', 0.09829015284776688)]"
            ]
          },
          "metadata": {
            "tags": []
          },
          "execution_count": 97
        }
      ]
    }
  ]
}