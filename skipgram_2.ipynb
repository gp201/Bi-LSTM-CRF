{
  "nbformat": 4,
  "nbformat_minor": 0,
  "metadata": {
    "colab": {
      "name": "skipgram-2.ipynb",
      "provenance": [],
      "collapsed_sections": [],
      "include_colab_link": true
    },
    "kernelspec": {
      "name": "python3",
      "display_name": "Python 3"
    }
  },
  "cells": [
    {
      "cell_type": "markdown",
      "metadata": {
        "id": "view-in-github",
        "colab_type": "text"
      },
      "source": [
        "<a href=\"https://colab.research.google.com/github/gp201/Skipgram/blob/master/skipgram_2.ipynb\" target=\"_parent\"><img src=\"https://colab.research.google.com/assets/colab-badge.svg\" alt=\"Open In Colab\"/></a>"
      ]
    },
    {
      "cell_type": "code",
      "metadata": {
        "id": "cdroWJKebthd",
        "colab_type": "code",
        "colab": {
          "base_uri": "https://localhost:8080/",
          "height": 220
        },
        "outputId": "85e647ba-0861-42f1-92d1-ea34bb5dec89"
      },
      "source": [
        "#Genism\n",
        "from gensim.models import Word2Vec\n",
        "from smart_open import open\n",
        "import os\n",
        "\n",
        "#Tensor\n",
        "import tensorflow as tf\n",
        "from tensorflow import keras\n",
        "from sklearn.decomposition import PCA\n",
        "from matplotlib import pyplot\n",
        "\n",
        "#NLTK\n",
        "import numpy as np \n",
        "import string \n",
        "import nltk\n",
        "from nltk.corpus import stopwords\n",
        "\n",
        "install.packages(\"ggfortify\")\n",
        "library(\"ggfortify\")"
      ],
      "execution_count": 44,
      "outputs": [
        {
          "output_type": "error",
          "ename": "NameError",
          "evalue": "ignored",
          "traceback": [
            "\u001b[0;31m---------------------------------------------------------------------------\u001b[0m",
            "\u001b[0;31mNameError\u001b[0m                                 Traceback (most recent call last)",
            "\u001b[0;32m<ipython-input-44-9b547729a6f1>\u001b[0m in \u001b[0;36m<module>\u001b[0;34m()\u001b[0m\n\u001b[1;32m     15\u001b[0m \u001b[0;32mfrom\u001b[0m \u001b[0mnltk\u001b[0m\u001b[0;34m.\u001b[0m\u001b[0mcorpus\u001b[0m \u001b[0;32mimport\u001b[0m \u001b[0mstopwords\u001b[0m\u001b[0;34m\u001b[0m\u001b[0;34m\u001b[0m\u001b[0m\n\u001b[1;32m     16\u001b[0m \u001b[0;34m\u001b[0m\u001b[0m\n\u001b[0;32m---> 17\u001b[0;31m \u001b[0minstall\u001b[0m\u001b[0;34m.\u001b[0m\u001b[0mpackages\u001b[0m\u001b[0;34m(\u001b[0m\u001b[0;34m\"ggfortify\"\u001b[0m\u001b[0;34m)\u001b[0m\u001b[0;34m\u001b[0m\u001b[0;34m\u001b[0m\u001b[0m\n\u001b[0m\u001b[1;32m     18\u001b[0m \u001b[0mlibrary\u001b[0m\u001b[0;34m(\u001b[0m\u001b[0;34m\"ggfortify\"\u001b[0m\u001b[0;34m)\u001b[0m\u001b[0;34m\u001b[0m\u001b[0;34m\u001b[0m\u001b[0m\n",
            "\u001b[0;31mNameError\u001b[0m: name 'install' is not defined"
          ]
        }
      ]
    },
    {
      "cell_type": "code",
      "metadata": {
        "id": "uO_GodlN6TiU",
        "colab_type": "code",
        "colab": {}
      },
      "source": [
        "#File open & Read\n",
        "file = open(\"data.txt\",mode='r')\n",
        "file.seek(0,0)\n",
        "str = file.readlines()"
      ],
      "execution_count": 0,
      "outputs": []
    },
    {
      "cell_type": "code",
      "metadata": {
        "id": "mTFmhw2A6Jvr",
        "colab_type": "code",
        "colab": {}
      },
      "source": [
        "import re\n",
        "def preprocessing2(corpus):\n",
        "  training_data = []\n",
        "  for i in range(len(str)):\n",
        "    regex = re.compile(r'[\\n\\r\\t]')\n",
        "    str[i] = regex.sub(\" \", str[i])\n",
        "    check = str[i].split()\n",
        "    check.pop(1)\n",
        "    check.pop(1)\n",
        "    check.pop(0)\n",
        "    check.pop(-1)\n",
        "    check = [word.lower() for word in check] \n",
        "    training_data.append(check) \n",
        "  return training_data"
      ],
      "execution_count": 0,
      "outputs": []
    },
    {
      "cell_type": "code",
      "metadata": {
        "id": "E262Lqbq6jOF",
        "colab_type": "code",
        "colab": {
          "base_uri": "https://localhost:8080/",
          "height": 1000
        },
        "outputId": "420074b6-2884-449b-9a02-a68212e0adc4"
      },
      "source": [
        "str = preprocessing2(str)\n",
        "#print(str)\n",
        "str"
      ],
      "execution_count": 36,
      "outputs": [
        {
          "output_type": "execute_result",
          "data": {
            "text/plain": [
              "[['dctn4', 't116,t123'],\n",
              " ['chronic', 'pseudomonas', 'aeruginosa', 'infection', 't047'],\n",
              " ['cystic', 'fibrosis', 't047'],\n",
              " ['pseudomonas', 'aeruginosa', '(pa)', 'infection', 't047'],\n",
              " ['cystic', 'fibrosis', 't047'],\n",
              " ['cf', 't047'],\n",
              " ['patients', 't101'],\n",
              " ['long-term', 't079'],\n",
              " ['pulmonary', 'disease', 't047'],\n",
              " ['shorter', 'survival', 't169'],\n",
              " ['chronic', 'pa', 'infection', 't047'],\n",
              " ['cpa', 't047'],\n",
              " ['reduced', 'lung', 'function', 't033'],\n",
              " ['faster', 'rate', 'of', 'lung', 'decline', 't033'],\n",
              " ['rates', 't081'],\n",
              " ['exacerbations', 't033'],\n",
              " ['shorter', 'survival', 't169'],\n",
              " ['exome', 'sequencing', 't063'],\n",
              " ['extreme', 'phenotype', 'design', 't052'],\n",
              " ['isoforms', 't116'],\n",
              " ['dynactin', '4', 't116,t123'],\n",
              " ['dctn4', 't116,t123'],\n",
              " ['pa', 'infection', 't047'],\n",
              " ['cf', 't047'],\n",
              " ['respiratory', 'disease', 't047'],\n",
              " ['study', 't062'],\n",
              " ['investigate', 't169'],\n",
              " ['dctn4', 't116,t123'],\n",
              " ['missense', 't033'],\n",
              " ['variants', 't116'],\n",
              " ['pa', 'infection', 't047'],\n",
              " ['incidence', 't081'],\n",
              " ['age', 't032'],\n",
              " ['pa', 'infection', 't047'],\n",
              " ['chronic', 'pa', 'infection', 't047'],\n",
              " ['incidence', 't081'],\n",
              " ['cohort', 't098'],\n",
              " ['adult', 't100'],\n",
              " ['cf', 't047'],\n",
              " ['patients', 't101'],\n",
              " ['centre', 't073,t093'],\n",
              " ['polymerase', 'chain', 'reaction', 't063'],\n",
              " ['direct', 'sequencing', 't063'],\n",
              " ['dna', 'samples', 't026'],\n",
              " ['dctn4', 't116,t123'],\n",
              " ['variants', 't116'],\n",
              " ['adult', 't100'],\n",
              " ['cf', 't047'],\n",
              " ['patients', 't101'],\n",
              " ['cochin', 'hospital', 'cf', 'centre', 't073,t093'],\n",
              " ['cftr', 't028'],\n",
              " ['defects', 't169'],\n",
              " ['pulmonary', 'infection', 't047'],\n",
              " ['pa', 't007'],\n",
              " ['patients', 't101'],\n",
              " ['cpa', 't047'],\n",
              " ['dctn4', 't116,t123'],\n",
              " ['variants', 't116'],\n",
              " ['cf', 't047'],\n",
              " ['patients', 't101'],\n",
              " ['pa', 'infection', 't047'],\n",
              " ['cf', 't047'],\n",
              " ['patients', 't101'],\n",
              " ['pa', 'infection', 't047'],\n",
              " ['patients', 't101'],\n",
              " ['cpa', 't047'],\n",
              " ['dctn4', 't116,t123'],\n",
              " ['missense', 't033'],\n",
              " ['variants', 't116'],\n",
              " ['patients', 't101'],\n",
              " ['cpa', 't047'],\n",
              " ['p.tyr263cys', 't116'],\n",
              " ['cf', 't047'],\n",
              " ['patients', 't101'],\n",
              " ['cpa', 't047'],\n",
              " ['patients', 't101'],\n",
              " ['cpa', 't047'],\n",
              " ['dctn4', 't116,t123'],\n",
              " ['missense', 't033'],\n",
              " ['variants', 't116'],\n",
              " ['male', 't032'],\n",
              " ['cf', 't047'],\n",
              " ['patients', 't101'],\n",
              " ['cpa', 't047'],\n",
              " ['class', 'ii', 'mutations', 't045'],\n",
              " ['male', 't032'],\n",
              " ['cf', 't047'],\n",
              " ['patients', 't101'],\n",
              " ['cpa', 't047'],\n",
              " ['class', 'ii', 'mutations', 't045'],\n",
              " ['dctn4', 't116,t123'],\n",
              " ['missense', 't033'],\n",
              " ['variants', 't116'],\n",
              " ['p.tyr263cys', 't116'],\n",
              " ['pathogenesis', 't046'],\n",
              " ['cpa', 't047'],\n",
              " ['male', 't032'],\n",
              " ['cf', 't047']]"
            ]
          },
          "metadata": {
            "tags": []
          },
          "execution_count": 36
        }
      ]
    },
    {
      "cell_type": "code",
      "metadata": {
        "id": "yAQ6oAUp7GN_",
        "colab_type": "code",
        "colab": {}
      },
      "source": [
        "model = Word2Vec(str, min_count=1, size=256,sg = 1 ,iter=20000)"
      ],
      "execution_count": 0,
      "outputs": []
    },
    {
      "cell_type": "code",
      "metadata": {
        "id": "tyz3X_357JrG",
        "colab_type": "code",
        "outputId": "28e438d1-02dc-49ef-e32c-294813b8dc81",
        "colab": {
          "base_uri": "https://localhost:8080/",
          "height": 54
        }
      },
      "source": [
        "words = list(model.wv.vocab)\n",
        "print(words)"
      ],
      "execution_count": 38,
      "outputs": [
        {
          "output_type": "stream",
          "text": [
            "['dctn4', 't116,t123', 'chronic', 'pseudomonas', 'aeruginosa', 'infection', 't047', 'cystic', 'fibrosis', '(pa)', 'cf', 'patients', 't101', 'long-term', 't079', 'pulmonary', 'disease', 'shorter', 'survival', 't169', 'pa', 'cpa', 'reduced', 'lung', 'function', 't033', 'faster', 'rate', 'of', 'decline', 'rates', 't081', 'exacerbations', 'exome', 'sequencing', 't063', 'extreme', 'phenotype', 'design', 't052', 'isoforms', 't116', 'dynactin', '4', 'respiratory', 'study', 't062', 'investigate', 'missense', 'variants', 'incidence', 'age', 't032', 'cohort', 't098', 'adult', 't100', 'centre', 't073,t093', 'polymerase', 'chain', 'reaction', 'direct', 'dna', 'samples', 't026', 'cochin', 'hospital', 'cftr', 't028', 'defects', 't007', 'p.tyr263cys', 'male', 'class', 'ii', 'mutations', 't045', 'pathogenesis', 't046']\n"
          ],
          "name": "stdout"
        }
      ]
    },
    {
      "cell_type": "code",
      "metadata": {
        "id": "YK5I9xK77NtK",
        "colab_type": "code",
        "outputId": "4c4656ac-8e08-4d42-dca3-1466d39295de",
        "colab": {
          "base_uri": "https://localhost:8080/",
          "height": 72
        }
      },
      "source": [
        "model.save(\"word2vec.model\")"
      ],
      "execution_count": 39,
      "outputs": [
        {
          "output_type": "stream",
          "text": [
            "/usr/local/lib/python3.6/dist-packages/smart_open/smart_open_lib.py:402: UserWarning: This function is deprecated, use smart_open.open instead. See the migration notes for details: https://github.com/RaRe-Technologies/smart_open/blob/master/README.rst#migrating-to-the-new-open-function\n",
            "  'See the migration notes for details: %s' % _MIGRATION_NOTES_URL\n"
          ],
          "name": "stderr"
        }
      ]
    },
    {
      "cell_type": "code",
      "metadata": {
        "id": "EwDV0xzY7QKP",
        "colab_type": "code",
        "outputId": "665755af-88cc-4f07-b04e-6a30d2f355ed",
        "colab": {
          "base_uri": "https://localhost:8080/",
          "height": 283
        }
      },
      "source": [
        "model.similar_by_word(\"t047\")"
      ],
      "execution_count": 40,
      "outputs": [
        {
          "output_type": "stream",
          "text": [
            "/usr/local/lib/python3.6/dist-packages/ipykernel_launcher.py:1: DeprecationWarning: Call to deprecated `similar_by_word` (Method will be removed in 4.0.0, use self.wv.similar_by_word() instead).\n",
            "  \"\"\"Entry point for launching an IPython kernel.\n",
            "/usr/local/lib/python3.6/dist-packages/gensim/matutils.py:737: FutureWarning: Conversion of the second argument of issubdtype from `int` to `np.signedinteger` is deprecated. In future, it will be treated as `np.int64 == np.dtype(int).type`.\n",
            "  if np.issubdtype(vec.dtype, np.int):\n"
          ],
          "name": "stderr"
        },
        {
          "output_type": "execute_result",
          "data": {
            "text/plain": [
              "[('infection', 0.49662041664123535),\n",
              " ('t007', 0.4880439043045044),\n",
              " ('aeruginosa', 0.4872242212295532),\n",
              " ('pseudomonas', 0.4801626205444336),\n",
              " ('pulmonary', 0.4680863320827484),\n",
              " ('chronic', 0.4596545100212097),\n",
              " ('(pa)', 0.43889376521110535),\n",
              " ('disease', 0.42859381437301636),\n",
              " ('t073,t093', 0.4224052429199219),\n",
              " ('centre', 0.39202654361724854)]"
            ]
          },
          "metadata": {
            "tags": []
          },
          "execution_count": 40
        }
      ]
    },
    {
      "cell_type": "code",
      "metadata": {
        "id": "IzEAD0qjut-n",
        "colab_type": "code",
        "outputId": "e452f242-069d-41a8-ec7a-e171ed6d6a82",
        "colab": {
          "base_uri": "https://localhost:8080/",
          "height": 320
        }
      },
      "source": [
        "# PCA plotting for model\n",
        "X = model[model.wv.vocab]\n",
        "pca = PCA(n_components=2)\n",
        "result = pca.fit_transform(X)\n",
        "# create a scatter plot of the projection\n",
        "pyplot.scatter(result[:, 0], result[:, 1])\n",
        "words = list(model.wv.vocab)\n",
        "for i, word in enumerate(words):\n",
        "\tpyplot.annotate(word, xy=(result[i, 0], result[i, 1]))\n",
        "pyplot.show()"
      ],
      "execution_count": 41,
      "outputs": [
        {
          "output_type": "stream",
          "text": [
            "/usr/local/lib/python3.6/dist-packages/ipykernel_launcher.py:1: DeprecationWarning: Call to deprecated `__getitem__` (Method will be removed in 4.0.0, use self.wv.__getitem__() instead).\n",
            "  \"\"\"Entry point for launching an IPython kernel.\n"
          ],
          "name": "stderr"
        },
        {
          "output_type": "display_data",
          "data": {
            "image/png": "[encoded data removed]",
            "text/plain": [
              "<Figure size 432x288 with 1 Axes>"
            ]
          },
          "metadata": {
            "tags": []
          }
        }
      ]
    },
    {
      "cell_type": "code",
      "metadata": {
        "id": "Npp3tu2jAroo",
        "colab_type": "code",
        "colab": {
          "base_uri": "https://localhost:8080/",
          "height": 125
        },
        "outputId": "66ad5c5a-acaa-4de8-c47f-3cb5193aa44d"
      },
      "source": [
        "model.similarity(\"pseudomonas\",\"t007\")"
      ],
      "execution_count": 42,
      "outputs": [
        {
          "output_type": "stream",
          "text": [
            "/usr/local/lib/python3.6/dist-packages/ipykernel_launcher.py:1: DeprecationWarning: Call to deprecated `similarity` (Method will be removed in 4.0.0, use self.wv.similarity() instead).\n",
            "  \"\"\"Entry point for launching an IPython kernel.\n",
            "/usr/local/lib/python3.6/dist-packages/gensim/matutils.py:737: FutureWarning: Conversion of the second argument of issubdtype from `int` to `np.signedinteger` is deprecated. In future, it will be treated as `np.int64 == np.dtype(int).type`.\n",
            "  if np.issubdtype(vec.dtype, np.int):\n"
          ],
          "name": "stderr"
        },
        {
          "output_type": "execute_result",
          "data": {
            "text/plain": [
              "0.25250864"
            ]
          },
          "metadata": {
            "tags": []
          },
          "execution_count": 42
        }
      ]
    },
    {
      "cell_type": "code",
      "metadata": {
        "id": "1kgTkVEqpo5W",
        "colab_type": "code",
        "colab": {}
      },
      "source": [
        "#Tagged Corpus Reader Ref \n",
        " \n",
        " \n",
        " from nltk.corpus.reader import TaggedCorpusReader \n",
        " sent = ''' The/AT grand/JJ jury/NN commented/VBD on/IN a/AT number/NN of/IN\n",
        "other/AP topics/NNS ,/, AMONG/IN them/PPO the/AT Atlanta/NP and/CC\n",
        "Fulton/NP-tl County/NN-tl purchasing/VBG departments/NNS which/WDT it/PPS\n",
        "said/VBD ``/`` ARE/BER well/QL operated/VBN and/CC follow/VB generally/RB\n",
        "accepted/VBN practices/NNS which/WDT inure/VB to/IN the/AT best/JJT\n",
        "interest/NN of/IN both/ABX governments/NNS ''/'' ./. '''"
      ],
      "execution_count": 0,
      "outputs": []
    },
    {
      "cell_type": "code",
      "metadata": {
        "id": "3zk_qahwpymo",
        "colab_type": "code",
        "outputId": "55dfc675-cb3a-46ac-f521-d800c4bf2281",
        "colab": {
          "base_uri": "https://localhost:8080/",
          "height": 774
        }
      },
      "source": [
        "#Tagged Corpus Reader Ref \n",
        "[nltk.tag.str2tuple(t) for t in sent.split()]"
      ],
      "execution_count": 30,
      "outputs": [
        {
          "output_type": "execute_result",
          "data": {
            "text/plain": [
              "[('The', 'AT'),\n",
              " ('grand', 'JJ'),\n",
              " ('jury', 'NN'),\n",
              " ('commented', 'VBD'),\n",
              " ('on', 'IN'),\n",
              " ('a', 'AT'),\n",
              " ('number', 'NN'),\n",
              " ('of', 'IN'),\n",
              " ('other', 'AP'),\n",
              " ('topics', 'NNS'),\n",
              " (',', ','),\n",
              " ('AMONG', 'IN'),\n",
              " ('them', 'PPO'),\n",
              " ('the', 'AT'),\n",
              " ('Atlanta', 'NP'),\n",
              " ('and', 'CC'),\n",
              " ('Fulton', 'NP-TL'),\n",
              " ('County', 'NN-TL'),\n",
              " ('purchasing', 'VBG'),\n",
              " ('departments', 'NNS'),\n",
              " ('which', 'WDT'),\n",
              " ('it', 'PPS'),\n",
              " ('said', 'VBD'),\n",
              " ('``', '``'),\n",
              " ('ARE', 'BER'),\n",
              " ('well', 'QL'),\n",
              " ('operated', 'VBN'),\n",
              " ('and', 'CC'),\n",
              " ('follow', 'VB'),\n",
              " ('generally', 'RB'),\n",
              " ('accepted', 'VBN'),\n",
              " ('practices', 'NNS'),\n",
              " ('which', 'WDT'),\n",
              " ('inure', 'VB'),\n",
              " ('to', 'IN'),\n",
              " ('the', 'AT'),\n",
              " ('best', 'JJT'),\n",
              " ('interest', 'NN'),\n",
              " ('of', 'IN'),\n",
              " ('both', 'ABX'),\n",
              " ('governments', 'NNS'),\n",
              " (\"''\", \"''\"),\n",
              " ('.', '.')]"
            ]
          },
          "metadata": {
            "tags": []
          },
          "execution_count": 30
        }
      ]
    },
    {
      "cell_type": "code",
      "metadata": {
        "id": "GtO5XVuwp4_U",
        "colab_type": "code",
        "outputId": "75454589-c486-491b-e5f3-c728994488b6",
        "colab": {
          "base_uri": "https://localhost:8080/",
          "height": 350
        }
      },
      "source": [
        "#Tagged Corpus Reader Ref \n",
        "from nltk.tokenize import LineTokenizer \n",
        "\n",
        "x = TaggedCorpusReader('.', r'.*\\.pos',sent_tokenizer = LineTokenizer()) \n",
        "  \n",
        "x.sents() "
      ],
      "execution_count": 31,
      "outputs": [
        {
          "output_type": "error",
          "ename": "ValueError",
          "evalue": "ignored",
          "traceback": [
            "\u001b[0;31m---------------------------------------------------------------------------\u001b[0m",
            "\u001b[0;31mValueError\u001b[0m                                Traceback (most recent call last)",
            "\u001b[0;32m<ipython-input-31-4789b4bcb3c4>\u001b[0m in \u001b[0;36m<module>\u001b[0;34m()\u001b[0m\n\u001b[1;32m      3\u001b[0m \u001b[0mx\u001b[0m \u001b[0;34m=\u001b[0m \u001b[0mTaggedCorpusReader\u001b[0m\u001b[0;34m(\u001b[0m\u001b[0;34m'.'\u001b[0m\u001b[0;34m,\u001b[0m \u001b[0;34mr'.*\\.pos'\u001b[0m\u001b[0;34m,\u001b[0m\u001b[0msent_tokenizer\u001b[0m \u001b[0;34m=\u001b[0m \u001b[0mLineTokenizer\u001b[0m\u001b[0;34m(\u001b[0m\u001b[0;34m)\u001b[0m\u001b[0;34m)\u001b[0m\u001b[0;34m\u001b[0m\u001b[0;34m\u001b[0m\u001b[0m\n\u001b[1;32m      4\u001b[0m \u001b[0;34m\u001b[0m\u001b[0m\n\u001b[0;32m----> 5\u001b[0;31m \u001b[0mx\u001b[0m\u001b[0;34m.\u001b[0m\u001b[0msents\u001b[0m\u001b[0;34m(\u001b[0m\u001b[0;34m)\u001b[0m\u001b[0;34m\u001b[0m\u001b[0;34m\u001b[0m\u001b[0m\n\u001b[0m",
            "\u001b[0;32m/usr/local/lib/python3.6/dist-packages/nltk/corpus/reader/tagged.py\u001b[0m in \u001b[0;36msents\u001b[0;34m(self, fileids)\u001b[0m\n\u001b[1;32m     97\u001b[0m                                         \u001b[0mself\u001b[0m\u001b[0;34m.\u001b[0m\u001b[0m_para_block_reader\u001b[0m\u001b[0;34m,\u001b[0m\u001b[0;34m\u001b[0m\u001b[0;34m\u001b[0m\u001b[0m\n\u001b[1;32m     98\u001b[0m                                         None)\n\u001b[0;32m---> 99\u001b[0;31m                        for (fileid, enc) in self.abspaths(fileids, True)])\n\u001b[0m\u001b[1;32m    100\u001b[0m \u001b[0;34m\u001b[0m\u001b[0m\n\u001b[1;32m    101\u001b[0m     \u001b[0;32mdef\u001b[0m \u001b[0mparas\u001b[0m\u001b[0;34m(\u001b[0m\u001b[0mself\u001b[0m\u001b[0;34m,\u001b[0m \u001b[0mfileids\u001b[0m\u001b[0;34m=\u001b[0m\u001b[0;32mNone\u001b[0m\u001b[0;34m)\u001b[0m\u001b[0;34m:\u001b[0m\u001b[0;34m\u001b[0m\u001b[0;34m\u001b[0m\u001b[0m\n",
            "\u001b[0;32m/usr/local/lib/python3.6/dist-packages/nltk/corpus/reader/util.py\u001b[0m in \u001b[0;36mconcat\u001b[0;34m(docs)\u001b[0m\n\u001b[1;32m    420\u001b[0m         \u001b[0;32mreturn\u001b[0m \u001b[0mdocs\u001b[0m\u001b[0;34m[\u001b[0m\u001b[0;36m0\u001b[0m\u001b[0;34m]\u001b[0m\u001b[0;34m\u001b[0m\u001b[0;34m\u001b[0m\u001b[0m\n\u001b[1;32m    421\u001b[0m     \u001b[0;32mif\u001b[0m \u001b[0mlen\u001b[0m\u001b[0;34m(\u001b[0m\u001b[0mdocs\u001b[0m\u001b[0;34m)\u001b[0m \u001b[0;34m==\u001b[0m \u001b[0;36m0\u001b[0m\u001b[0;34m:\u001b[0m\u001b[0;34m\u001b[0m\u001b[0;34m\u001b[0m\u001b[0m\n\u001b[0;32m--> 422\u001b[0;31m         \u001b[0;32mraise\u001b[0m \u001b[0mValueError\u001b[0m\u001b[0;34m(\u001b[0m\u001b[0;34m'concat() expects at least one object!'\u001b[0m\u001b[0;34m)\u001b[0m\u001b[0;34m\u001b[0m\u001b[0;34m\u001b[0m\u001b[0m\n\u001b[0m\u001b[1;32m    423\u001b[0m \u001b[0;34m\u001b[0m\u001b[0m\n\u001b[1;32m    424\u001b[0m     \u001b[0mtypes\u001b[0m \u001b[0;34m=\u001b[0m \u001b[0mset\u001b[0m\u001b[0;34m(\u001b[0m\u001b[0md\u001b[0m\u001b[0;34m.\u001b[0m\u001b[0m__class__\u001b[0m \u001b[0;32mfor\u001b[0m \u001b[0md\u001b[0m \u001b[0;32min\u001b[0m \u001b[0mdocs\u001b[0m\u001b[0;34m)\u001b[0m\u001b[0;34m\u001b[0m\u001b[0;34m\u001b[0m\u001b[0m\n",
            "\u001b[0;31mValueError\u001b[0m: concat() expects at least one object!"
          ]
        }
      ]
    },
    {
      "cell_type": "code",
      "metadata": {
        "id": "HjQTLt1c_Wet",
        "colab_type": "code",
        "colab": {
          "base_uri": "https://localhost:8080/",
          "height": 132
        },
        "outputId": "f58f256b-ae95-445d-fd54-efd8f00d03e0"
      },
      "source": [
        "info = {}\n",
        "for i in str:\n",
        "  key = i[-1]\n",
        "  if key in info.keys():\n",
        "    values = []\n",
        "    values = info[key]\n",
        "    if dict[key] = i[:-1]:\n",
        "      values.append(i[:-1])\n",
        "    info[key] = values\n",
        "  else:\n",
        "    info[key] = i[:-1]\n",
        "info"
      ],
      "execution_count": 19,
      "outputs": [
        {
          "output_type": "error",
          "ename": "SyntaxError",
          "evalue": "ignored",
          "traceback": [
            "\u001b[0;36m  File \u001b[0;32m\"<ipython-input-19-2688e1a9af2e>\"\u001b[0;36m, line \u001b[0;32m7\u001b[0m\n\u001b[0;31m    if dict[key] = i[:-1]:\u001b[0m\n\u001b[0m                 ^\u001b[0m\n\u001b[0;31mSyntaxError\u001b[0m\u001b[0;31m:\u001b[0m invalid syntax\n"
          ]
        }
      ]
    }
  ]
}